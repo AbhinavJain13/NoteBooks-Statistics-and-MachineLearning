{
 "worksheets": [
  {
   "cells": [
    {
     "cell_type": "markdown",
     "metadata": {},
     "source": [
      "## Machine Learning\n",
      "Quite a few machine learning questions focus on predicting an outcome based on a set of features. Linear regression with gradient descent is a supervised learning technique. The machine learns the best fitting linear function from a training set, which it uses to predict outcomes based on feauture values it has never 'seen' before.  "
     ]
    },
    {
     "cell_type": "markdown",
     "metadata": {},
     "source": [
      "## Goal\n",
      "Our goal using Linear Regression with Gradient Descent, is trying to minimize the cost function to get the best predictions. In other words, we need to make the sum of the differences between the predicted and the actual values as small as possible.\n",
      "\n",
      "$$minimize \\sum_{i=1}^m(y_{predicted}-y_{actual})$$"
     ]
    },
    {
     "cell_type": "markdown",
     "metadata": {},
     "source": [
      "## Datapoints\n",
      "In our test set, each datapoint has a set of features $x_1, x_2, x_n$ that leads to a specific outcome $y$. Features are for instance the age, height and batting average and handedness of a baseball player. The outcome could be something like the number of home runs to expect in the player's career. The datapoints are vectors $1\\ to\\ m$ as shown here:\n",
      "\n",
      "$$\n",
      "\\begin{pmatrix} 1 \\\\ y_{homeruns} \\\\ x_{age} \\\\ x_{height} \\\\ x_{avg} \\\\ x_{hand} \\end{pmatrix}\n",
      "\\begin{pmatrix} 2 \\\\ y_{homeruns} \\\\ x_{age} \\\\ x_{height} \\\\ x_{avg} \\\\ x_{hand} \\end{pmatrix}\n",
      "to\n",
      "\\begin{pmatrix} m \\\\ y_{homeruns} \\\\ x_{age} \\\\ x_{height} \\\\ x_{avg} \\\\ x_{hand} \\end{pmatrix}\n",
      "$$\n"
     ]
    },
    {
     "cell_type": "markdown",
     "metadata": {},
     "source": [
      "## Setup"
     ]
    },
    {
     "cell_type": "code",
     "metadata": {},
     "outputs": [
      {
       "output_type": "pyout",
       "prompt_number": 1,
       "text": [
        "('1.9.1', '0.14.0', '0.15.2', '0.6.1')"
       ],
       "metadata": {}
      }
     ],
     "input": [
      "%matplotlib inline\n",
      "import numpy as np\n",
      "import pandas as pd\n",
      "import scipy\n",
      "import matplotlib.pyplot as plt\n",
      "import seaborn as sns\n",
      "from scipy import stats\n",
      "import statsmodels.api as sm\n",
      "import math\n",
      "from __future__ import division\n",
      "\n",
      "# turn of data table rendering\n",
      "pd.set_option('display.notebook_repr_html', False)\n",
      "\n",
      "sns.set_palette(['#00A99D', '#F5CA0C', '#B6129F', '#76620C', '#095C57'])\n",
      "np.version.full_version, scipy.version.full_version, \\\n",
      "pd.version.version, sm.version.full_version"
     ],
     "language": "python",
     "prompt_number": 1
    },
    {
     "cell_type": "code",
     "metadata": {},
     "outputs": [],
     "input": [
      ""
     ],
     "language": "python"
    }
   ]
  }
 ],
 "cells": [],
 "metadata": {
  "name": "",
  "signature": "sha256:25279357ea2e36c109fc3346ba8977203b38e699266e4cdf6bad6dc2ade361d7"
 },
 "nbformat": 3,
 "nbformat_minor": 0
}