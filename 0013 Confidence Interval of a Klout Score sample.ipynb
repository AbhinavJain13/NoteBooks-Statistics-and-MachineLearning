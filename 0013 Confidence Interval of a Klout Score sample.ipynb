{
 "metadata": {
  "name": "",
  "signature": "sha256:bf228ac02b0fde8c3ec89f38bfed10c0bc7b786c46c3e75eec4d2e70180680fd"
 },
 "nbformat": 3,
 "nbformat_minor": 0,
 "worksheets": [
  {
   "cells": [
    {
     "cell_type": "code",
     "collapsed": false,
     "input": [
      "%matplotlib inline\n",
      "import numpy as np\n",
      "import pandas as pd\n",
      "import scipy\n",
      "import matplotlib.pyplot as plt\n",
      "import seaborn as sns\n",
      "from scipy import stats\n",
      "import math\n",
      "from __future__ import division\n",
      "\n",
      "# turn of data table rendering\n",
      "pd.set_option('display.notebook_repr_html', False)\n",
      "\n",
      "sns.set_palette(['#00A99D', '#F5CA0C', '#B6129F', '#76620C', '#095C57'])\n",
      "np.version.full_version"
     ],
     "language": "python",
     "metadata": {},
     "outputs": [
      {
       "metadata": {},
       "output_type": "pyout",
       "prompt_number": 1,
       "text": [
        "'1.9.1'"
       ]
      }
     ],
     "prompt_number": 1
    },
    {
     "cell_type": "markdown",
     "metadata": {},
     "source": [
      "## Data\n",
      "We use a random sample of social media influence scores from the service [Klout.com](http://klout.com/ \"Klout scores\") as presented in Udacity's [Intro to Inferential Statistics](https://www.udacity.com/course/ud201). Of a population of 620+ milion scores we got a sample size $n=1048$."
     ]
    },
    {
     "cell_type": "code",
     "collapsed": false,
     "input": [
      "# Load the data from a csv file\n",
      "data = pd.read_csv('data/klout-scores.csv', header=None, names=['scores'])\n",
      "data.head()"
     ],
     "language": "python",
     "metadata": {},
     "outputs": [
      {
       "metadata": {},
       "output_type": "pyout",
       "prompt_number": 2,
       "text": [
        "      scores\n",
        "0  25.104179\n",
        "1  60.908747\n",
        "2  23.222238\n",
        "3  51.553491\n",
        "4  22.629690"
       ]
      }
     ],
     "prompt_number": 2
    },
    {
     "cell_type": "code",
     "collapsed": false,
     "input": [
      "# Plot the sample and note the bimodal distribution shape\n",
      "# The first peak are social media consumers, second peak influencers\n",
      "p=sns.distplot(data.scores)"
     ],
     "language": "python",
     "metadata": {},
     "outputs": [
      {
       "metadata": {},
       "output_type": "display_data",
       "png": "[encoded data removed]",
       "text": [
        "<matplotlib.figure.Figure at 0x3fc2048>"
       ]
      }
     ],
     "prompt_number": 3
    },
    {
     "cell_type": "code",
     "collapsed": false,
     "input": [
      "# Sample size\n",
      "n = data.scores.count()\n",
      "\n",
      "# The confidence coefficient\n",
      "confidence_coef = .95\n",
      "\n",
      "# The alpha level\n",
      "alpha = 1. - confidence_coef"
     ],
     "language": "python",
     "metadata": {},
     "outputs": [],
     "prompt_number": 4
    },
    {
     "cell_type": "markdown",
     "metadata": {},
     "source": [
      "## Confidence Interval\n",
      "If we want to estimate a population parameter (mean, proportion, standard deviation) from a sample statistic, we can never be sure of our outcome. But we can give some level of confidence of our prediction; the confidence interval (CI). We use the following symbols to depict parameters and statistics.\n",
      "\n",
      "|   |mean|proportion|std dev|   |\n",
      "|---|:---:|:---:|:---:|---|\n",
      "|population|$\\mu$|$p$|$\\sigma$|parameters|\n",
      "|sample|$\\bar{x}$|$\\hat{p}$|$SE$|statistics|\n",
      "\n",
      "Let's calculate 95% the confidence interval of the sample mean of Klout Scores. For large samples we can solve the following inequality with an alpha level of $\\alpha=.05$.\n",
      "\n",
      "$$ \\bar{x}-z_{\\alpha/2}\\cdot\\frac{\\sigma}{\\sqrt{n}}\\ <\\ \\mu_{estimator}\\ <\\ \\bar{x}+z_{\\alpha/2}\\cdot\\frac{\\sigma}{\\sqrt{n}}$$ "
     ]
    },
    {
     "cell_type": "code",
     "collapsed": false,
     "input": [
      "# First we need our sample mean\n",
      "# This is called the point estimate\n",
      "klout_xbar = data.scores.mean()\n",
      "klout_xbar"
     ],
     "language": "python",
     "metadata": {},
     "outputs": [
      {
       "metadata": {},
       "output_type": "pyout",
       "prompt_number": 5,
       "text": [
        "37.71905483253817"
       ]
      }
     ],
     "prompt_number": 5
    },
    {
     "cell_type": "code",
     "collapsed": false,
     "input": [
      "# We also need the standard error of the sample\n",
      "# Since our sample size is large (> 30) we can use\n",
      "# the SE as an approximation of sigma\n",
      "klout_SE = data.scores.std()\n",
      "klout_SE"
     ],
     "language": "python",
     "metadata": {},
     "outputs": [
      {
       "metadata": {},
       "output_type": "pyout",
       "prompt_number": 6,
       "text": [
        "16.044314979048973"
       ]
      }
     ],
     "prompt_number": 6
    },
    {
     "cell_type": "code",
     "collapsed": false,
     "input": [
      "# The we need to find the z score to calculate the\n",
      "# lower and upper bound of our confidence interval\n",
      "# This is called the critical value\n",
      "critical_value = stats.norm.ppf(alpha / 2) * -1.\n",
      "critical_value"
     ],
     "language": "python",
     "metadata": {},
     "outputs": [
      {
       "metadata": {},
       "output_type": "pyout",
       "prompt_number": 7,
       "text": [
        "1.959963984540054"
       ]
      }
     ],
     "prompt_number": 7
    },
    {
     "cell_type": "code",
     "collapsed": false,
     "input": [
      "# An easier way to get the critical values calling scipy.stats\n",
      "# interval function. The alpha .95 being a littbe bit misleading since\n",
      "# it is not our alpha but our confidence coefficient\n",
      "zscore_interval = stats.norm.interval(alpha=confidence_coef)\n",
      "zscore_interval"
     ],
     "language": "python",
     "metadata": {},
     "outputs": [
      {
       "metadata": {},
       "output_type": "pyout",
       "prompt_number": 8,
       "text": [
        "(-1.959963984540054, 1.959963984540054)"
       ]
      }
     ],
     "prompt_number": 8
    },
    {
     "cell_type": "code",
     "collapsed": false,
     "input": [
      "# Calculate the lower and upper bound Klout Score \n",
      "# for the confidence interval\n",
      "klout_CI_mean_lower = klout_xbar - critical_value * klout_SE / math.sqrt(n)\n",
      "klout_CI_mean_upper = klout_xbar + critical_value * klout_SE / math.sqrt(n)\n",
      "klout_CI_mean_lower, klout_CI_mean_upper"
     ],
     "language": "python",
     "metadata": {},
     "outputs": [
      {
       "metadata": {},
       "output_type": "pyout",
       "prompt_number": 9,
       "text": [
        "(36.747676014280636, 38.690433650795704)"
       ]
      }
     ],
     "prompt_number": 9
    },
    {
     "cell_type": "markdown",
     "metadata": {},
     "source": [
      "## So what does it all mean?\n",
      "A confidence interval is a 'parameter catcher'. In this case we try to catch the real population mean from a sample by declaring a confidence interval. This mean we are 95% sure that the real population mean of Klout Scores lies somewhere fixed between 36.75 and 38.69.\n",
      "\n",
      "Klout.com states their mean score is 40, so we did not catch the true population mean parameter. Since our calculations seems to be correct, this could mean that:\n",
      "- Maybe our sample mean falls way below the population mean. Note we we're only 95% confident.\n",
      "- Maybe Klout's communication on the average score is simplified to an easy to remember value of 40."
     ]
    },
    {
     "cell_type": "markdown",
     "metadata": {},
     "source": [
      "## The effect of sample size\n",
      "Sample size effects the bounds of the confidence interval. The smaller the sample, the less confident we are, so the wider the confidence interval. Let's try this with a random sample from the Klout Score data of $n=50$."
     ]
    },
    {
     "cell_type": "code",
     "collapsed": false,
     "input": [
      "# Let's create a sample of 50 random Klout Scores\n",
      "n_50 = 50\n",
      "data_50 = data.ix[np.random.choice(data.index, n_50)]\n",
      "data_50.head()"
     ],
     "language": "python",
     "metadata": {},
     "outputs": [
      {
       "metadata": {},
       "output_type": "pyout",
       "prompt_number": 10,
       "text": [
        "        scores\n",
        "554  26.160489\n",
        "191  14.065158\n",
        "325  49.678906\n",
        "79   56.612938\n",
        "499  53.165657"
       ]
      }
     ],
     "prompt_number": 10
    },
    {
     "cell_type": "code",
     "collapsed": false,
     "input": [
      "# Plot the sample and note a similar bimodal distribution shape\n",
      "p=sns.distplot(data_50.scores)"
     ],
     "language": "python",
     "metadata": {},
     "outputs": [
      {
       "metadata": {},
       "output_type": "display_data",
       "png": "[encoded data removed]",
       "text": [
        "<matplotlib.figure.Figure at 0x17a57d68>"
       ]
      }
     ],
     "prompt_number": 11
    },
    {
     "cell_type": "code",
     "collapsed": false,
     "input": [
      "# Get the point estimate\n",
      "klout_50_xbar = data_50.scores.mean()\n",
      "klout_50_xbar"
     ],
     "language": "python",
     "metadata": {},
     "outputs": [
      {
       "metadata": {},
       "output_type": "pyout",
       "prompt_number": 12,
       "text": [
        "36.813820340200003"
       ]
      }
     ],
     "prompt_number": 12
    },
    {
     "cell_type": "code",
     "collapsed": false,
     "input": [
      "# Get the SE as an approximation of sigma\n",
      "klout_50_SE = data_50.scores.std()\n",
      "klout_50_SE"
     ],
     "language": "python",
     "metadata": {},
     "outputs": [
      {
       "metadata": {},
       "output_type": "pyout",
       "prompt_number": 13,
       "text": [
        "16.708625837064858"
       ]
      }
     ],
     "prompt_number": 13
    },
    {
     "cell_type": "code",
     "collapsed": false,
     "input": [
      "# Calculate the lower and upper bound Klout Score \n",
      "# for the confidence interval of our sample of n=50\n",
      "klout_50_CI_mean_lower = klout_50_xbar - critical_value * klout_50_SE / math.sqrt(n_50)\n",
      "klout_50_CI_mean_upper = klout_50_xbar + critical_value * klout_50_SE / math.sqrt(n_50)\n",
      "klout_50_CI_mean_lower, klout_50_CI_mean_upper"
     ],
     "language": "python",
     "metadata": {},
     "outputs": [
      {
       "metadata": {},
       "output_type": "pyout",
       "prompt_number": 14,
       "text": [
        "(32.182510650756797, 41.445130029643209)"
       ]
      }
     ],
     "prompt_number": 14
    },
    {
     "cell_type": "markdown",
     "metadata": {},
     "source": [
      "With this sample size, we are 95% sure that the population mean lies within the range of *klout_50_CI_mean_lower* to *klout_50_CI_mean_upper*. Although this confidence interval does catch the mean parameter, it has also a much wider range. "
     ]
    }
   ],
   "metadata": {}
  }
 ]
}