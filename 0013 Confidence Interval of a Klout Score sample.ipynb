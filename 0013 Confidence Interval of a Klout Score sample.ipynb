{
 "metadata": {
  "name": "",
  "signature": "sha256:d0b16da864846fc50d7e4005470a70578a27cbcdebe0dfaf623f7bcdcd2efa1a"
 },
 "nbformat": 3,
 "nbformat_minor": 0,
 "worksheets": [
  {
   "cells": [
    {
     "cell_type": "code",
     "collapsed": false,
     "input": [
      "%matplotlib inline\n",
      "import numpy as np\n",
      "import pandas as pd\n",
      "import scipy\n",
      "import matplotlib.pyplot as plt\n",
      "import seaborn as sns\n",
      "from scipy import stats\n",
      "import math\n",
      "from __future__ import division\n",
      "\n",
      "# turn of data table rendering\n",
      "pd.set_option('display.notebook_repr_html', False)\n",
      "\n",
      "sns.set_palette(['#00A99D', '#F5CA0C', '#B6129F', '#76620C', '#095C57'])\n",
      "np.version.full_version"
     ],
     "language": "python",
     "metadata": {},
     "outputs": [
      {
       "metadata": {},
       "output_type": "pyout",
       "prompt_number": 11,
       "text": [
        "'1.9.1'"
       ]
      }
     ],
     "prompt_number": 11
    },
    {
     "cell_type": "markdown",
     "metadata": {},
     "source": [
      "## Data\n",
      "We use a sample of social media influence scores from the service [Klout.com](http://klout.com/ \"Klout scores\") as presented in Udacity's [Intro to Inferential Statistics](https://www.udacity.com/course/ud201). Sample size $n=1048$."
     ]
    },
    {
     "cell_type": "code",
     "collapsed": false,
     "input": [
      "# We load the data from a csv file\n",
      "data = pd.read_csv('data/klout-scores.csv', header=None, names=['scores'])\n",
      "data.head()"
     ],
     "language": "python",
     "metadata": {},
     "outputs": [
      {
       "metadata": {},
       "output_type": "pyout",
       "prompt_number": 5,
       "text": [
        "      scores\n",
        "0  25.104179\n",
        "1  60.908747\n",
        "2  23.222238\n",
        "3  51.553491\n",
        "4  22.629690"
       ]
      }
     ],
     "prompt_number": 5
    },
    {
     "cell_type": "code",
     "collapsed": false,
     "input": [
      "# Plot the sample and note the bimodal distribution shape\n",
      "# The first peak are social media consumers, second peak influencers\n",
      "sns.distplot(data.scores)\n",
      "p=plt.text(22, .018, '$M=37.72$')"
     ],
     "language": "python",
     "metadata": {},
     "outputs": [
      {
       "metadata": {},
       "output_type": "display_data",
       "png": "[encoded data removed]",
       "text": [
        "<matplotlib.figure.Figure at 0x1810dfd0>"
       ]
      }
     ],
     "prompt_number": 6
    },
    {
     "cell_type": "code",
     "collapsed": false,
     "input": [
      "# The standard deviation and mean of the population are given,\n",
      "# as well as the sample size of the sampling distribution\n",
      "klout_sigma = 16.04\n",
      "klout_mu = 37.72\n",
      "n = 35\n",
      "\n",
      "# Get the standard error of the sample\n",
      "klout_SE = klout_sigma / math.sqrt(n)\n",
      "klout_SE"
     ],
     "language": "python",
     "metadata": {},
     "outputs": [
      {
       "metadata": {},
       "output_type": "pyout",
       "prompt_number": 7,
       "text": [
        "2.711254849169081"
       ]
      }
     ],
     "prompt_number": 7
    },
    {
     "cell_type": "code",
     "collapsed": false,
     "input": [
      "# The mean of the sampling distribution should be the same\n",
      "# as the population mean\n",
      "klout_M = klout_mu\n",
      "klout_M"
     ],
     "language": "python",
     "metadata": {},
     "outputs": [
      {
       "metadata": {},
       "output_type": "pyout",
       "prompt_number": 8,
       "text": [
        "37.72"
       ]
      }
     ],
     "prompt_number": 8
    },
    {
     "cell_type": "markdown",
     "metadata": {},
     "source": [
      "## Intervention\n",
      "One of the factors influencing the Klout Score is the activity one has on Twitter. Let's say a lot of mr. Bieber fans use an app called the Bieber Tweeter, which automatically retweets anything he posts on Twitter. We take a sample of $n=35$ users of this app and get a mean Klout Score of $\\bar{x}=40$ (point estimate from a single sample). "
     ]
    },
    {
     "cell_type": "markdown",
     "metadata": {},
     "source": [
      "## Confidence interval\n",
      "We want to calculate the 95% confidence interval of the population mean if everyone used the Bieber Tweeter, expressed in the formula:\n",
      "\n",
      "$$ \\bar{x}-\\frac{z\\cdot\\sigma}{\\sqrt{n}}<\\mu_{intervention}<\\bar{x}+\\frac{z\\cdot\\sigma}{\\sqrt{n}}$$ \n"
     ]
    },
    {
     "cell_type": "code",
     "collapsed": false,
     "input": [
      "# First calculate the lower and upper bound z score\n",
      "# for an alpha level of .95 percent point\n",
      "zscore_interval = stats.norm.interval(alpha=.05)\n",
      "zscore_interval"
     ],
     "language": "python",
     "metadata": {},
     "outputs": [
      {
       "metadata": {},
       "output_type": "pyout",
       "prompt_number": 103,
       "text": [
        "(-0.062706777943213846, 0.062706777943213846)"
       ]
      }
     ],
     "prompt_number": 103
    },
    {
     "cell_type": "code",
     "collapsed": false,
     "input": [
      "# Calculate the upper and lower bounds of the confidence interval\n",
      "mu_intervention = 40\n",
      "CI_lower_bound = mu_intervention + (zscore_interval[0] * klout_sigma / math.sqrt(n))\n",
      "CI_upper_bound = mu_intervention - (zscore_interval[0] * klout_sigma / math.sqrt(n))\n",
      "\n",
      "# So we are 95% confident that the mean of the population of Klout scores\n",
      "# would be between these bounds if everyone used the Bieber Tweeter\n",
      "CI_lower_bound, CI_upper_bound"
     ],
     "language": "python",
     "metadata": {},
     "outputs": [
      {
       "metadata": {},
       "output_type": "pyout",
       "prompt_number": 104,
       "text": [
        "(39.82998594422569, 40.17001405577431)"
       ]
      }
     ],
     "prompt_number": 104
    },
    {
     "cell_type": "markdown",
     "metadata": {},
     "source": [
      "## Increasing sample size\n"
     ]
    },
    {
     "cell_type": "code",
     "collapsed": false,
     "input": [],
     "language": "python",
     "metadata": {},
     "outputs": []
    }
   ],
   "metadata": {}
  }
 ]
}