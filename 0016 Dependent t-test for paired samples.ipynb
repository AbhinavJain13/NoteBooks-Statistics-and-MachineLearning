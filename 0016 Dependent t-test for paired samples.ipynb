{
 "metadata": {
  "name": "",
  "signature": "sha256:09d55398a0672578df703d75c4a2e2e2ed43ae3ea9bb2c9de5b7bffeeaec0963"
 },
 "nbformat": 3,
 "nbformat_minor": 0,
 "worksheets": [
  {
   "cells": [
    {
     "cell_type": "code",
     "collapsed": false,
     "input": [
      "%matplotlib inline\n",
      "import numpy as np\n",
      "import pandas as pd\n",
      "import scipy\n",
      "import matplotlib.pyplot as plt\n",
      "import seaborn as sns\n",
      "from scipy import stats\n",
      "import math\n",
      "from __future__ import division\n",
      "\n",
      "# turn of data table rendering\n",
      "pd.set_option('display.notebook_repr_html', False)\n",
      "\n",
      "sns.set_palette(['#00A99D', '#F5CA0C', '#B6129F', '#76620C', '#095C57'])\n",
      "np.version.full_version"
     ],
     "language": "python",
     "metadata": {},
     "outputs": [
      {
       "metadata": {},
       "output_type": "pyout",
       "prompt_number": 1,
       "text": [
        "'1.9.1'"
       ]
      }
     ],
     "prompt_number": 1
    },
    {
     "cell_type": "markdown",
     "metadata": {},
     "source": [
      "## Data\n",
      "We use two samples of the same subjects, in this case a group of 19 randomly selected women walking on high heels in one sample and flat shoes in another. The samples show the number of steps walked in 30 days for each woman in the group."
     ]
    },
    {
     "cell_type": "code",
     "collapsed": false,
     "input": [
      "high_heels = pd.Series(\n",
      "    [189158.,  192110.,  176194.,  156349.,  161981.,  152096.,\n",
      "     168058.,  156401.,  174939.,  170711.,  170485.,  150565.,\n",
      "     167770.,  157289.,  191459.,  160661.,  190667.,  184006.,  174503.])\n",
      "flat_shoes = pd.Series(\n",
      "    [188777.,  196981.,  190510.,  184603.,  192341.,  197897.,\n",
      "     154040.,  168098.,  192263.,  154085.,  176084.,  189249.,\n",
      "     176291.,  151454.,  198118.,  162959.,  167480.,  159884.,  184386.])\n",
      "\n",
      "data = pd.DataFrame({'high': high_heels, 'flat': flat_shoes})\n",
      "data.head()"
     ],
     "language": "python",
     "metadata": {},
     "outputs": [
      {
       "metadata": {},
       "output_type": "pyout",
       "prompt_number": 2,
       "text": [
        "     flat    high\n",
        "0  188777  189158\n",
        "1  196981  192110\n",
        "2  190510  176194\n",
        "3  184603  156349\n",
        "4  192341  161981"
       ]
      }
     ],
     "prompt_number": 2
    },
    {
     "cell_type": "code",
     "collapsed": false,
     "input": [
      "sns.distplot(data.high, label='high')\n",
      "sns.distplot(data.flat, label='flat')\n",
      "plt.legend()\n",
      "plt.show()"
     ],
     "language": "python",
     "metadata": {},
     "outputs": [
      {
       "metadata": {},
       "output_type": "display_data",
       "png": "[encoded data removed]",
       "text": [
        "<matplotlib.figure.Figure at 0x17980fd0>"
       ]
      }
     ],
     "prompt_number": 3
    },
    {
     "cell_type": "markdown",
     "metadata": {},
     "source": [
      "Just peeking at the plot shows a higher average step frequency over the period of 30 days for the group of women wearing flat shoes. But is it a statistical significant difference?"
     ]
    },
    {
     "cell_type": "code",
     "collapsed": false,
     "input": [
      "# First let's find the mean for both groups\n",
      "xbar_high = data.high.mean()\n",
      "xbar_flat = data.flat.mean()\n",
      "xbar_high, xbar_flat"
     ],
     "language": "python",
     "metadata": {},
     "outputs": [
      {
       "metadata": {},
       "output_type": "pyout",
       "prompt_number": 4,
       "text": [
        "(170810.63157894736, 178184.21052631579)"
       ]
      }
     ],
     "prompt_number": 4
    },
    {
     "cell_type": "markdown",
     "metadata": {},
     "source": [
      "## Hypothesis\n",
      "We want to know if there is a significant difference in the mean steps taken in 30 days for women wearing high heels and the same group wearing flat shoes. While walking on high heels, the women scored a mean average of $\\bar{x}_h=170810.63$. On flat shoes the mean average is $\\bar{x}_f=178184.21$ We choose as our test criterium an alpha level of 5%. So our hypothesis states:\n",
      "\n",
      "|Hypothesis||$\\alpha = .05$|\n",
      "|---:|:---:|---|:---|\n",
      "|$H_0:$|$\\mu_h = \\mu_f$|There is no significant difference in mean steps between groups|\n",
      "|$H_a:$|$\\mu_h \\neq \\mu_f$|There is a significant difference in mean steps between groups|\n",
      "\n",
      "Note that the hypothesis is written to denote the whole population, not just the sample."
     ]
    },
    {
     "cell_type": "code",
     "collapsed": false,
     "input": [
      "# Calculate the point estimate for the mean difference\n",
      "point_estimate = xbar_high - xbar_flat\n",
      "point_estimate"
     ],
     "language": "python",
     "metadata": {},
     "outputs": [
      {
       "metadata": {},
       "output_type": "pyout",
       "prompt_number": 5,
       "text": [
        "-7373.5789473684272"
       ]
      }
     ],
     "prompt_number": 5
    },
    {
     "cell_type": "code",
     "collapsed": false,
     "input": [
      "# Take the mean difference\n",
      "data['difference'] = data.high - data.flat\n",
      "data.head()"
     ],
     "language": "python",
     "metadata": {},
     "outputs": [
      {
       "metadata": {},
       "output_type": "pyout",
       "prompt_number": 6,
       "text": [
        "     flat    high  difference\n",
        "0  188777  189158         381\n",
        "1  196981  192110       -4871\n",
        "2  190510  176194      -14316\n",
        "3  184603  156349      -28254\n",
        "4  192341  161981      -30360"
       ]
      }
     ],
     "prompt_number": 6
    },
    {
     "cell_type": "code",
     "collapsed": false,
     "input": [
      "# Calculate the sample standard deviation of the difference\n",
      "s = data.difference.std()\n",
      "s"
     ],
     "language": "python",
     "metadata": {},
     "outputs": [
      {
       "metadata": {},
       "output_type": "pyout",
       "prompt_number": 7,
       "text": [
        "19471.738275755764"
       ]
      }
     ],
     "prompt_number": 7
    },
    {
     "cell_type": "code",
     "collapsed": false,
     "input": [
      "sns.distplot(data.difference, label='mean difference')\n",
      "plt.legend()\n",
      "plt.show()"
     ],
     "language": "python",
     "metadata": {},
     "outputs": [
      {
       "metadata": {},
       "output_type": "display_data",
       "png": "[encoded data removed]",
       "text": [
        "<matplotlib.figure.Figure at 0x54d1dd8>"
       ]
      }
     ],
     "prompt_number": 8
    },
    {
     "cell_type": "code",
     "collapsed": false,
     "input": [
      "# Calculate the t-statistic with the point estimate\n",
      "n = data.high.count() # the same for both samples\n",
      "se = s / math.sqrt(n) # standard error\n",
      "t = point_estimate / se\n",
      "n, se, t"
     ],
     "language": "python",
     "metadata": {},
     "outputs": [
      {
       "metadata": {},
       "output_type": "pyout",
       "prompt_number": 9,
       "text": [
        "(19, 4467.1231262680149, -1.6506325746898682)"
       ]
      }
     ],
     "prompt_number": 9
    },
    {
     "cell_type": "code",
     "collapsed": false,
     "input": [
      "# So what is the probability of getting this mean difference?\n",
      "dof = n - 1\n",
      "p = stats.t.sf(abs(t), dof) * 2 # two sided\n",
      "p"
     ],
     "language": "python",
     "metadata": {},
     "outputs": [
      {
       "metadata": {},
       "output_type": "pyout",
       "prompt_number": 17,
       "text": [
        "0.11615318918022201"
       ]
      }
     ],
     "prompt_number": 17
    },
    {
     "cell_type": "code",
     "collapsed": false,
     "input": [
      "# To test our alternative hypothesis\n",
      "alpha = .05\n",
      "p < alpha / 2 # two sided"
     ],
     "language": "python",
     "metadata": {},
     "outputs": [
      {
       "metadata": {},
       "output_type": "pyout",
       "prompt_number": 18,
       "text": [
        "False"
       ]
      }
     ],
     "prompt_number": 18
    },
    {
     "cell_type": "code",
     "collapsed": false,
     "input": [],
     "language": "python",
     "metadata": {},
     "outputs": [],
     "prompt_number": 18
    },
    {
     "cell_type": "code",
     "collapsed": false,
     "input": [
      "# Calculate t-critical\n",
      "\n",
      "t_critical = abs(stats.t.ppf(alpha / 2, dof)) # two sided\n",
      "t_critical"
     ],
     "language": "python",
     "metadata": {},
     "outputs": [
      {
       "metadata": {},
       "output_type": "pyout",
       "prompt_number": 19,
       "text": [
        "2.1009220402409601"
       ]
      }
     ],
     "prompt_number": 19
    },
    {
     "cell_type": "code",
     "collapsed": false,
     "input": [
      "# Calculate the confidence interval\n",
      "margin_of_error = se * t_critical\n",
      "CI_lo = point_estimate - margin_of_error\n",
      "CI_hi = point_estimate + margin_of_error\n",
      "CI_lo, CI_hi"
     ],
     "language": "python",
     "metadata": {},
     "outputs": [
      {
       "metadata": {},
       "output_type": "pyout",
       "prompt_number": 20,
       "text": [
        "(-16758.656379815002, 2011.4984850781457)"
       ]
      }
     ],
     "prompt_number": 20
    },
    {
     "cell_type": "markdown",
     "metadata": {},
     "source": [
      "--- This confidence interval crosses 0, so a true mean difference of 0 falls within this range???"
     ]
    },
    {
     "cell_type": "code",
     "collapsed": false,
     "input": [
      "# A quicker way to perform a dependent t-test is to call the scipy\n",
      "# function ttest_rel on both samples to get our t-statistic and \n",
      "# probability\n",
      "t_statistic, p = stats.ttest_rel(data.high, data.flat)\n",
      "t_statistic, p"
     ],
     "language": "python",
     "metadata": {},
     "outputs": [
      {
       "metadata": {},
       "output_type": "pyout",
       "prompt_number": 21,
       "text": [
        "(-1.6506325746898667, 0.11615318918022235)"
       ]
      }
     ],
     "prompt_number": 21
    },
    {
     "cell_type": "code",
     "collapsed": false,
     "input": [],
     "language": "python",
     "metadata": {},
     "outputs": []
    }
   ],
   "metadata": {}
  }
 ]
}