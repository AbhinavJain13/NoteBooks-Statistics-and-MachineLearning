{
 "metadata": {
  "name": "",
  "signature": "sha256:2ea1190c6ce4aceb592021332d24cff664acd31b79a3a440e1c9ad7e8b3b3e60"
 },
 "nbformat": 3,
 "nbformat_minor": 0,
 "worksheets": [
  {
   "cells": [
    {
     "cell_type": "code",
     "collapsed": false,
     "input": [
      "%matplotlib inline\n",
      "import numpy as np\n",
      "import matplotlib.pyplot as plt\n",
      "import seaborn as sns\n",
      "from scipy import stats\n",
      "\n",
      "sns.set_palette(['#00A99D', '#F5CA0C', '#B6129F', '#76620C', '#095C57'])\n",
      "np.version.full_version"
     ],
     "language": "python",
     "metadata": {},
     "outputs": [
      {
       "metadata": {},
       "output_type": "pyout",
       "prompt_number": 1,
       "text": [
        "'1.9.1'"
       ]
      }
     ],
     "prompt_number": 1
    },
    {
     "cell_type": "markdown",
     "metadata": {},
     "source": [
      "## Data"
     ]
    },
    {
     "cell_type": "code",
     "collapsed": false,
     "input": [
      "#We use a fictional data set of 10000 averge number of Facebook friends.\n",
      "facebook_mu = 190.0\n",
      "facebook_sigma = 36.0\n",
      "facebook_friends = np.random.normal(facebook_mu, facebook_sigma, 10000)\n",
      "\n",
      "# show first 12 samples\n",
      "facebook_friends[:12]"
     ],
     "language": "python",
     "metadata": {},
     "outputs": [
      {
       "metadata": {},
       "output_type": "pyout",
       "prompt_number": 2,
       "text": [
        "array([ 187.88402945,  235.36697144,  190.83289392,  175.91612964,\n",
        "        175.53251814,  185.36306165,  239.46409079,  192.41809192,\n",
        "        249.16192266,  193.87299606,  197.42474677,  166.4072349 ])"
       ]
      }
     ],
     "prompt_number": 2
    },
    {
     "cell_type": "markdown",
     "metadata": {},
     "source": [
      "## Probability Density Function\n",
      "The total area under the Probability Density Function (pdf) is always 1.0. Roughly 68% of the values is within 1 standard deviation from the mean. About 95% falls within two standard deviations."
     ]
    },
    {
     "cell_type": "code",
     "collapsed": false,
     "input": [
      "# Distribution plot of the average number of Facebook friends\n",
      "x = 227.0\n",
      "sns.distplot(facebook_friends, label='Facebook friends', kde=False, \n",
      "             fit=stats.norm, color='w')\n",
      "plt.text(x+5, .0003, 'x='+str(x))\n",
      "\n",
      "x_plot = np.linspace(min(facebook_friends), x, 1000)\n",
      "y_plot = stats.norm.pdf(x_plot, facebook_mu, facebook_sigma)\n",
      "plt.fill_between(x_plot,  y_plot)\n",
      "c=plt.legend()"
     ],
     "language": "python",
     "metadata": {},
     "outputs": [
      {
       "metadata": {},
       "output_type": "display_data",
       "png": "[encoded data removed]",
       "text": [
        "<matplotlib.figure.Figure at 0x3f950f0>"
       ]
      }
     ],
     "prompt_number": 3
    },
    {
     "cell_type": "code",
     "collapsed": false,
     "input": [
      "# From a z score to a probability less or equal\n",
      "zscore = (x - facebook_mu) / facebook_sigma\n",
      "print 'z score:', zscore\n",
      "p = stats.norm.cdf(zscore)\n",
      "p"
     ],
     "language": "python",
     "metadata": {},
     "outputs": [
      {
       "output_type": "stream",
       "stream": "stdout",
       "text": [
        "z score: 1.02777777778\n"
       ]
      },
      {
       "metadata": {},
       "output_type": "pyout",
       "prompt_number": 4,
       "text": [
        "0.84797281411763326"
       ]
      }
     ],
     "prompt_number": 4
    },
    {
     "cell_type": "code",
     "collapsed": false,
     "input": [
      "# Inverse cdf - from probability to z score\n",
      "z = stats.norm.ppf(p)\n",
      "z"
     ],
     "language": "python",
     "metadata": {},
     "outputs": [
      {
       "metadata": {},
       "output_type": "pyout",
       "prompt_number": 5,
       "text": [
        "1.0277777777777777"
       ]
      }
     ],
     "prompt_number": 5
    },
    {
     "cell_type": "code",
     "collapsed": false,
     "input": [
      "# From z score to number of Facebook friends\n",
      "z * facebook_sigma + facebook_mu"
     ],
     "language": "python",
     "metadata": {},
     "outputs": [
      {
       "metadata": {},
       "output_type": "pyout",
       "prompt_number": 6,
       "text": [
        "227.0"
       ]
      }
     ],
     "prompt_number": 6
    }
   ],
   "metadata": {}
  }
 ]
}