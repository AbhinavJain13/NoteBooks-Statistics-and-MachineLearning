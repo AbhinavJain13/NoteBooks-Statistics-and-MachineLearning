{
 "metadata": {
  "name": "",
  "signature": "sha256:10ff56fb52c9db3ca7aefb5cc611fd92fb6ce863bd91abbf987a86652beaf25b"
 },
 "nbformat": 3,
 "nbformat_minor": 0,
 "worksheets": [
  {
   "cells": [
    {
     "cell_type": "heading",
     "level": 2,
     "metadata": {},
     "source": [
      "Setup"
     ]
    },
    {
     "cell_type": "code",
     "collapsed": false,
     "input": [
      "import pandas as pd\n",
      "import numpy as np\n",
      "import datetime"
     ],
     "language": "python",
     "metadata": {},
     "outputs": [],
     "prompt_number": 1
    },
    {
     "cell_type": "code",
     "collapsed": false,
     "input": [
      "# Collection of data columns\n",
      "s1 = np.random.randn(5)\n",
      "s2 = [True, True, False, True, False]\n",
      "s3 = ['Apple', 'Banana', 'Tomato', 'Bean', 'Rice']\n",
      "\n",
      "# Dict with added column names\n",
      "data = {'Randnum': s1, 'IsBool': s2, 'Name': s3}\n",
      "df = pd.DataFrame(data)\n",
      "df"
     ],
     "language": "python",
     "metadata": {},
     "outputs": [
      {
       "html": [
        "<div style=\"max-height:1000px;max-width:1500px;overflow:auto;\">\n",
        "<table border=\"1\" class=\"dataframe\">\n",
        "  <thead>\n",
        "    <tr style=\"text-align: right;\">\n",
        "      <th></th>\n",
        "      <th>IsBool</th>\n",
        "      <th>Name</th>\n",
        "      <th>Randnum</th>\n",
        "    </tr>\n",
        "  </thead>\n",
        "  <tbody>\n",
        "    <tr>\n",
        "      <th>0</th>\n",
        "      <td>  True</td>\n",
        "      <td>  Apple</td>\n",
        "      <td>-1.080615</td>\n",
        "    </tr>\n",
        "    <tr>\n",
        "      <th>1</th>\n",
        "      <td>  True</td>\n",
        "      <td> Banana</td>\n",
        "      <td> 0.869720</td>\n",
        "    </tr>\n",
        "    <tr>\n",
        "      <th>2</th>\n",
        "      <td> False</td>\n",
        "      <td> Tomato</td>\n",
        "      <td>-0.818935</td>\n",
        "    </tr>\n",
        "    <tr>\n",
        "      <th>3</th>\n",
        "      <td>  True</td>\n",
        "      <td>   Bean</td>\n",
        "      <td>-0.854487</td>\n",
        "    </tr>\n",
        "    <tr>\n",
        "      <th>4</th>\n",
        "      <td> False</td>\n",
        "      <td>   Rice</td>\n",
        "      <td> 0.251070</td>\n",
        "    </tr>\n",
        "  </tbody>\n",
        "</table>\n",
        "</div>"
       ],
       "metadata": {},
       "output_type": "pyout",
       "prompt_number": 2,
       "text": [
        "  IsBool    Name   Randnum\n",
        "0   True   Apple -1.080615\n",
        "1   True  Banana  0.869720\n",
        "2  False  Tomato -0.818935\n",
        "3   True    Bean -0.854487\n",
        "4  False    Rice  0.251070"
       ]
      }
     ],
     "prompt_number": 2
    },
    {
     "cell_type": "code",
     "collapsed": false,
     "input": [
      "print df.index\n",
      "print df.columns"
     ],
     "language": "python",
     "metadata": {},
     "outputs": [
      {
       "output_type": "stream",
       "stream": "stdout",
       "text": [
        "Int64Index([0, 1, 2, 3, 4], dtype='int64')\n",
        "Index([u'IsBool', u'Name', u'Randnum'], dtype='object')\n"
       ]
      }
     ],
     "prompt_number": 3
    },
    {
     "cell_type": "code",
     "collapsed": false,
     "input": [
      "# Select the Randnum column\n",
      "df.Randnum"
     ],
     "language": "python",
     "metadata": {},
     "outputs": [
      {
       "metadata": {},
       "output_type": "pyout",
       "prompt_number": 4,
       "text": [
        "0   -1.080615\n",
        "1    0.869720\n",
        "2   -0.818935\n",
        "3   -0.854487\n",
        "4    0.251070\n",
        "Name: Randnum, dtype: float64"
       ]
      }
     ],
     "prompt_number": 4
    },
    {
     "cell_type": "code",
     "collapsed": false,
     "input": [
      "# Create a new column and assign it all 127\n",
      "df['New'] = 127\n",
      "df"
     ],
     "language": "python",
     "metadata": {},
     "outputs": [
      {
       "html": [
        "<div style=\"max-height:1000px;max-width:1500px;overflow:auto;\">\n",
        "<table border=\"1\" class=\"dataframe\">\n",
        "  <thead>\n",
        "    <tr style=\"text-align: right;\">\n",
        "      <th></th>\n",
        "      <th>IsBool</th>\n",
        "      <th>Name</th>\n",
        "      <th>Randnum</th>\n",
        "      <th>New</th>\n",
        "    </tr>\n",
        "  </thead>\n",
        "  <tbody>\n",
        "    <tr>\n",
        "      <th>0</th>\n",
        "      <td>  True</td>\n",
        "      <td>  Apple</td>\n",
        "      <td>-1.080615</td>\n",
        "      <td> 127</td>\n",
        "    </tr>\n",
        "    <tr>\n",
        "      <th>1</th>\n",
        "      <td>  True</td>\n",
        "      <td> Banana</td>\n",
        "      <td> 0.869720</td>\n",
        "      <td> 127</td>\n",
        "    </tr>\n",
        "    <tr>\n",
        "      <th>2</th>\n",
        "      <td> False</td>\n",
        "      <td> Tomato</td>\n",
        "      <td>-0.818935</td>\n",
        "      <td> 127</td>\n",
        "    </tr>\n",
        "    <tr>\n",
        "      <th>3</th>\n",
        "      <td>  True</td>\n",
        "      <td>   Bean</td>\n",
        "      <td>-0.854487</td>\n",
        "      <td> 127</td>\n",
        "    </tr>\n",
        "    <tr>\n",
        "      <th>4</th>\n",
        "      <td> False</td>\n",
        "      <td>   Rice</td>\n",
        "      <td> 0.251070</td>\n",
        "      <td> 127</td>\n",
        "    </tr>\n",
        "  </tbody>\n",
        "</table>\n",
        "</div>"
       ],
       "metadata": {},
       "output_type": "pyout",
       "prompt_number": 5,
       "text": [
        "  IsBool    Name   Randnum  New\n",
        "0   True   Apple -1.080615  127\n",
        "1   True  Banana  0.869720  127\n",
        "2  False  Tomato -0.818935  127\n",
        "3   True    Bean -0.854487  127\n",
        "4  False    Rice  0.251070  127"
       ]
      }
     ],
     "prompt_number": 5
    },
    {
     "cell_type": "code",
     "collapsed": false,
     "input": [
      "# Select the first three rows\n",
      "df[:3]"
     ],
     "language": "python",
     "metadata": {},
     "outputs": [
      {
       "html": [
        "<div style=\"max-height:1000px;max-width:1500px;overflow:auto;\">\n",
        "<table border=\"1\" class=\"dataframe\">\n",
        "  <thead>\n",
        "    <tr style=\"text-align: right;\">\n",
        "      <th></th>\n",
        "      <th>IsBool</th>\n",
        "      <th>Name</th>\n",
        "      <th>Randnum</th>\n",
        "      <th>New</th>\n",
        "    </tr>\n",
        "  </thead>\n",
        "  <tbody>\n",
        "    <tr>\n",
        "      <th>0</th>\n",
        "      <td>  True</td>\n",
        "      <td>  Apple</td>\n",
        "      <td>-1.080615</td>\n",
        "      <td> 127</td>\n",
        "    </tr>\n",
        "    <tr>\n",
        "      <th>1</th>\n",
        "      <td>  True</td>\n",
        "      <td> Banana</td>\n",
        "      <td> 0.869720</td>\n",
        "      <td> 127</td>\n",
        "    </tr>\n",
        "    <tr>\n",
        "      <th>2</th>\n",
        "      <td> False</td>\n",
        "      <td> Tomato</td>\n",
        "      <td>-0.818935</td>\n",
        "      <td> 127</td>\n",
        "    </tr>\n",
        "  </tbody>\n",
        "</table>\n",
        "</div>"
       ],
       "metadata": {},
       "output_type": "pyout",
       "prompt_number": 6,
       "text": [
        "  IsBool    Name   Randnum  New\n",
        "0   True   Apple -1.080615  127\n",
        "1   True  Banana  0.869720  127\n",
        "2  False  Tomato -0.818935  127"
       ]
      }
     ],
     "prompt_number": 6
    },
    {
     "cell_type": "code",
     "collapsed": false,
     "input": [
      "# Select the second row\n",
      "df.ix[1]"
     ],
     "language": "python",
     "metadata": {},
     "outputs": [
      {
       "metadata": {},
       "output_type": "pyout",
       "prompt_number": 7,
       "text": [
        "IsBool          True\n",
        "Name          Banana\n",
        "Randnum    0.8697199\n",
        "New              127\n",
        "Name: 1, dtype: object"
       ]
      }
     ],
     "prompt_number": 7
    },
    {
     "cell_type": "code",
     "collapsed": false,
     "input": [
      "# Select the Randnum value of the second row\n",
      "df.ix[1, 2] # or\n",
      "df.ix[1, 'Randnum']"
     ],
     "language": "python",
     "metadata": {},
     "outputs": [
      {
       "metadata": {},
       "output_type": "pyout",
       "prompt_number": 8,
       "text": [
        "0.86971986270387691"
       ]
      }
     ],
     "prompt_number": 8
    },
    {
     "cell_type": "code",
     "collapsed": false,
     "input": [
      "# Delete a key value\n",
      "df.ix[3, 'New'] = np.NAN\n",
      "df"
     ],
     "language": "python",
     "metadata": {},
     "outputs": [
      {
       "html": [
        "<div style=\"max-height:1000px;max-width:1500px;overflow:auto;\">\n",
        "<table border=\"1\" class=\"dataframe\">\n",
        "  <thead>\n",
        "    <tr style=\"text-align: right;\">\n",
        "      <th></th>\n",
        "      <th>IsBool</th>\n",
        "      <th>Name</th>\n",
        "      <th>Randnum</th>\n",
        "      <th>New</th>\n",
        "    </tr>\n",
        "  </thead>\n",
        "  <tbody>\n",
        "    <tr>\n",
        "      <th>0</th>\n",
        "      <td>  True</td>\n",
        "      <td>  Apple</td>\n",
        "      <td>-1.080615</td>\n",
        "      <td> 127</td>\n",
        "    </tr>\n",
        "    <tr>\n",
        "      <th>1</th>\n",
        "      <td>  True</td>\n",
        "      <td> Banana</td>\n",
        "      <td> 0.869720</td>\n",
        "      <td> 127</td>\n",
        "    </tr>\n",
        "    <tr>\n",
        "      <th>2</th>\n",
        "      <td> False</td>\n",
        "      <td> Tomato</td>\n",
        "      <td>-0.818935</td>\n",
        "      <td> 127</td>\n",
        "    </tr>\n",
        "    <tr>\n",
        "      <th>3</th>\n",
        "      <td>  True</td>\n",
        "      <td>   Bean</td>\n",
        "      <td>-0.854487</td>\n",
        "      <td> NaN</td>\n",
        "    </tr>\n",
        "    <tr>\n",
        "      <th>4</th>\n",
        "      <td> False</td>\n",
        "      <td>   Rice</td>\n",
        "      <td> 0.251070</td>\n",
        "      <td> 127</td>\n",
        "    </tr>\n",
        "  </tbody>\n",
        "</table>\n",
        "</div>"
       ],
       "metadata": {},
       "output_type": "pyout",
       "prompt_number": 9,
       "text": [
        "  IsBool    Name   Randnum  New\n",
        "0   True   Apple -1.080615  127\n",
        "1   True  Banana  0.869720  127\n",
        "2  False  Tomato -0.818935  127\n",
        "3   True    Bean -0.854487  NaN\n",
        "4  False    Rice  0.251070  127"
       ]
      }
     ],
     "prompt_number": 9
    },
    {
     "cell_type": "code",
     "collapsed": false,
     "input": [
      "# Selecting specific rows and columns\n",
      "df.ix[[0, 2, 6], ['Name', 'Randnum', 'Unknown']]"
     ],
     "language": "python",
     "metadata": {},
     "outputs": [
      {
       "html": [
        "<div style=\"max-height:1000px;max-width:1500px;overflow:auto;\">\n",
        "<table border=\"1\" class=\"dataframe\">\n",
        "  <thead>\n",
        "    <tr style=\"text-align: right;\">\n",
        "      <th></th>\n",
        "      <th>Name</th>\n",
        "      <th>Randnum</th>\n",
        "      <th>Unknown</th>\n",
        "    </tr>\n",
        "  </thead>\n",
        "  <tbody>\n",
        "    <tr>\n",
        "      <th>0</th>\n",
        "      <td>  Apple</td>\n",
        "      <td>-1.080615</td>\n",
        "      <td>NaN</td>\n",
        "    </tr>\n",
        "    <tr>\n",
        "      <th>2</th>\n",
        "      <td> Tomato</td>\n",
        "      <td>-0.818935</td>\n",
        "      <td>NaN</td>\n",
        "    </tr>\n",
        "    <tr>\n",
        "      <th>6</th>\n",
        "      <td>    NaN</td>\n",
        "      <td>      NaN</td>\n",
        "      <td>NaN</td>\n",
        "    </tr>\n",
        "  </tbody>\n",
        "</table>\n",
        "</div>"
       ],
       "metadata": {},
       "output_type": "pyout",
       "prompt_number": 10,
       "text": [
        "     Name   Randnum  Unknown\n",
        "0   Apple -1.080615      NaN\n",
        "2  Tomato -0.818935      NaN\n",
        "6     NaN       NaN      NaN"
       ]
      }
     ],
     "prompt_number": 10
    },
    {
     "cell_type": "code",
     "collapsed": false,
     "input": [
      "# Retrieve boolean Series, True if Randnum is smaller than zero\n",
      "belowzero = df.Randnum < 0\n",
      "belowzero"
     ],
     "language": "python",
     "metadata": {},
     "outputs": [
      {
       "metadata": {},
       "output_type": "pyout",
       "prompt_number": 11,
       "text": [
        "0     True\n",
        "1    False\n",
        "2     True\n",
        "3     True\n",
        "4    False\n",
        "Name: Randnum, dtype: bool"
       ]
      }
     ],
     "prompt_number": 11
    },
    {
     "cell_type": "code",
     "collapsed": false,
     "input": [
      "# Selects all rows meeting the belowzero condition\n",
      "df[belowzero]"
     ],
     "language": "python",
     "metadata": {},
     "outputs": [
      {
       "html": [
        "<div style=\"max-height:1000px;max-width:1500px;overflow:auto;\">\n",
        "<table border=\"1\" class=\"dataframe\">\n",
        "  <thead>\n",
        "    <tr style=\"text-align: right;\">\n",
        "      <th></th>\n",
        "      <th>IsBool</th>\n",
        "      <th>Name</th>\n",
        "      <th>Randnum</th>\n",
        "      <th>New</th>\n",
        "    </tr>\n",
        "  </thead>\n",
        "  <tbody>\n",
        "    <tr>\n",
        "      <th>0</th>\n",
        "      <td>  True</td>\n",
        "      <td>  Apple</td>\n",
        "      <td>-1.080615</td>\n",
        "      <td> 127</td>\n",
        "    </tr>\n",
        "    <tr>\n",
        "      <th>2</th>\n",
        "      <td> False</td>\n",
        "      <td> Tomato</td>\n",
        "      <td>-0.818935</td>\n",
        "      <td> 127</td>\n",
        "    </tr>\n",
        "    <tr>\n",
        "      <th>3</th>\n",
        "      <td>  True</td>\n",
        "      <td>   Bean</td>\n",
        "      <td>-0.854487</td>\n",
        "      <td> NaN</td>\n",
        "    </tr>\n",
        "  </tbody>\n",
        "</table>\n",
        "</div>"
       ],
       "metadata": {},
       "output_type": "pyout",
       "prompt_number": 12,
       "text": [
        "  IsBool    Name   Randnum  New\n",
        "0   True   Apple -1.080615  127\n",
        "2  False  Tomato -0.818935  127\n",
        "3   True    Bean -0.854487  NaN"
       ]
      }
     ],
     "prompt_number": 12
    },
    {
     "cell_type": "code",
     "collapsed": false,
     "input": [
      "# Retrieve boolean Series, True if Randnum is smaller than zero\n",
      "isapple = df['Name'] == 'Apple'\n",
      "isapple"
     ],
     "language": "python",
     "metadata": {},
     "outputs": [
      {
       "metadata": {},
       "output_type": "pyout",
       "prompt_number": 13,
       "text": [
        "0     True\n",
        "1    False\n",
        "2    False\n",
        "3    False\n",
        "4    False\n",
        "Name: Name, dtype: bool"
       ]
      }
     ],
     "prompt_number": 13
    },
    {
     "cell_type": "code",
     "collapsed": false,
     "input": [
      "# Select belowzero AND isapple conditions\n",
      "df[belowzero & isapple]"
     ],
     "language": "python",
     "metadata": {},
     "outputs": [
      {
       "html": [
        "<div style=\"max-height:1000px;max-width:1500px;overflow:auto;\">\n",
        "<table border=\"1\" class=\"dataframe\">\n",
        "  <thead>\n",
        "    <tr style=\"text-align: right;\">\n",
        "      <th></th>\n",
        "      <th>IsBool</th>\n",
        "      <th>Name</th>\n",
        "      <th>Randnum</th>\n",
        "      <th>New</th>\n",
        "    </tr>\n",
        "  </thead>\n",
        "  <tbody>\n",
        "    <tr>\n",
        "      <th>0</th>\n",
        "      <td> True</td>\n",
        "      <td> Apple</td>\n",
        "      <td>-1.080615</td>\n",
        "      <td> 127</td>\n",
        "    </tr>\n",
        "  </tbody>\n",
        "</table>\n",
        "</div>"
       ],
       "metadata": {},
       "output_type": "pyout",
       "prompt_number": 14,
       "text": [
        "  IsBool   Name   Randnum  New\n",
        "0   True  Apple -1.080615  127"
       ]
      }
     ],
     "prompt_number": 14
    },
    {
     "cell_type": "code",
     "collapsed": false,
     "input": [
      "# Select belowzero OR isapple conditions\n",
      "df[belowzero | isapple]"
     ],
     "language": "python",
     "metadata": {},
     "outputs": [
      {
       "html": [
        "<div style=\"max-height:1000px;max-width:1500px;overflow:auto;\">\n",
        "<table border=\"1\" class=\"dataframe\">\n",
        "  <thead>\n",
        "    <tr style=\"text-align: right;\">\n",
        "      <th></th>\n",
        "      <th>IsBool</th>\n",
        "      <th>Name</th>\n",
        "      <th>Randnum</th>\n",
        "      <th>New</th>\n",
        "    </tr>\n",
        "  </thead>\n",
        "  <tbody>\n",
        "    <tr>\n",
        "      <th>0</th>\n",
        "      <td>  True</td>\n",
        "      <td>  Apple</td>\n",
        "      <td>-1.080615</td>\n",
        "      <td> 127</td>\n",
        "    </tr>\n",
        "    <tr>\n",
        "      <th>2</th>\n",
        "      <td> False</td>\n",
        "      <td> Tomato</td>\n",
        "      <td>-0.818935</td>\n",
        "      <td> 127</td>\n",
        "    </tr>\n",
        "    <tr>\n",
        "      <th>3</th>\n",
        "      <td>  True</td>\n",
        "      <td>   Bean</td>\n",
        "      <td>-0.854487</td>\n",
        "      <td> NaN</td>\n",
        "    </tr>\n",
        "  </tbody>\n",
        "</table>\n",
        "</div>"
       ],
       "metadata": {},
       "output_type": "pyout",
       "prompt_number": 15,
       "text": [
        "  IsBool    Name   Randnum  New\n",
        "0   True   Apple -1.080615  127\n",
        "2  False  Tomato -0.818935  127\n",
        "3   True    Bean -0.854487  NaN"
       ]
      }
     ],
     "prompt_number": 15
    },
    {
     "cell_type": "code",
     "collapsed": false,
     "input": [
      "# Set the index to a date range\n",
      "df.index = pd.date_range('1-1-2015', periods=5, freq='d')\n",
      "df.index.name = 'Date'\n",
      "df"
     ],
     "language": "python",
     "metadata": {},
     "outputs": [
      {
       "html": [
        "<div style=\"max-height:1000px;max-width:1500px;overflow:auto;\">\n",
        "<table border=\"1\" class=\"dataframe\">\n",
        "  <thead>\n",
        "    <tr style=\"text-align: right;\">\n",
        "      <th></th>\n",
        "      <th>IsBool</th>\n",
        "      <th>Name</th>\n",
        "      <th>Randnum</th>\n",
        "      <th>New</th>\n",
        "    </tr>\n",
        "    <tr>\n",
        "      <th>Date</th>\n",
        "      <th></th>\n",
        "      <th></th>\n",
        "      <th></th>\n",
        "      <th></th>\n",
        "    </tr>\n",
        "  </thead>\n",
        "  <tbody>\n",
        "    <tr>\n",
        "      <th>2015-01-01</th>\n",
        "      <td>  True</td>\n",
        "      <td>  Apple</td>\n",
        "      <td>-1.080615</td>\n",
        "      <td> 127</td>\n",
        "    </tr>\n",
        "    <tr>\n",
        "      <th>2015-01-02</th>\n",
        "      <td>  True</td>\n",
        "      <td> Banana</td>\n",
        "      <td> 0.869720</td>\n",
        "      <td> 127</td>\n",
        "    </tr>\n",
        "    <tr>\n",
        "      <th>2015-01-03</th>\n",
        "      <td> False</td>\n",
        "      <td> Tomato</td>\n",
        "      <td>-0.818935</td>\n",
        "      <td> 127</td>\n",
        "    </tr>\n",
        "    <tr>\n",
        "      <th>2015-01-04</th>\n",
        "      <td>  True</td>\n",
        "      <td>   Bean</td>\n",
        "      <td>-0.854487</td>\n",
        "      <td> NaN</td>\n",
        "    </tr>\n",
        "    <tr>\n",
        "      <th>2015-01-05</th>\n",
        "      <td> False</td>\n",
        "      <td>   Rice</td>\n",
        "      <td> 0.251070</td>\n",
        "      <td> 127</td>\n",
        "    </tr>\n",
        "  </tbody>\n",
        "</table>\n",
        "</div>"
       ],
       "metadata": {},
       "output_type": "pyout",
       "prompt_number": 16,
       "text": [
        "           IsBool    Name   Randnum  New\n",
        "Date                                    \n",
        "2015-01-01   True   Apple -1.080615  127\n",
        "2015-01-02   True  Banana  0.869720  127\n",
        "2015-01-03  False  Tomato -0.818935  127\n",
        "2015-01-04   True    Bean -0.854487  NaN\n",
        "2015-01-05  False    Rice  0.251070  127"
       ]
      }
     ],
     "prompt_number": 16
    },
    {
     "cell_type": "heading",
     "level": 2,
     "metadata": {},
     "source": [
      "Nested dictionary to a DataFrame"
     ]
    },
    {
     "cell_type": "code",
     "collapsed": false,
     "input": [
      "# Create a nested dictionary of equal inner value-count\n",
      "data = {'Paris': {'N': 1.2, 'E': 4, 'S': 2.9, 'W': 0.8},\n",
      "        'Amsterdam': {'N': 2.3, 'E': 1.7, 'S': 2.1, 'W': 7.2},\n",
      "        'London': {'N': 9.7, 'E': 3.1, 'S': 7.2, 'W': 2}}\n",
      "\n",
      "df2 = pd.DataFrame(data)\n",
      "df2"
     ],
     "language": "python",
     "metadata": {},
     "outputs": [
      {
       "html": [
        "<div style=\"max-height:1000px;max-width:1500px;overflow:auto;\">\n",
        "<table border=\"1\" class=\"dataframe\">\n",
        "  <thead>\n",
        "    <tr style=\"text-align: right;\">\n",
        "      <th></th>\n",
        "      <th>Amsterdam</th>\n",
        "      <th>London</th>\n",
        "      <th>Paris</th>\n",
        "    </tr>\n",
        "  </thead>\n",
        "  <tbody>\n",
        "    <tr>\n",
        "      <th>E</th>\n",
        "      <td> 1.7</td>\n",
        "      <td> 3.1</td>\n",
        "      <td> 4.0</td>\n",
        "    </tr>\n",
        "    <tr>\n",
        "      <th>N</th>\n",
        "      <td> 2.3</td>\n",
        "      <td> 9.7</td>\n",
        "      <td> 1.2</td>\n",
        "    </tr>\n",
        "    <tr>\n",
        "      <th>S</th>\n",
        "      <td> 2.1</td>\n",
        "      <td> 7.2</td>\n",
        "      <td> 2.9</td>\n",
        "    </tr>\n",
        "    <tr>\n",
        "      <th>W</th>\n",
        "      <td> 7.2</td>\n",
        "      <td> 2.0</td>\n",
        "      <td> 0.8</td>\n",
        "    </tr>\n",
        "  </tbody>\n",
        "</table>\n",
        "</div>"
       ],
       "metadata": {},
       "output_type": "pyout",
       "prompt_number": 17,
       "text": [
        "   Amsterdam  London  Paris\n",
        "E        1.7     3.1    4.0\n",
        "N        2.3     9.7    1.2\n",
        "S        2.1     7.2    2.9\n",
        "W        7.2     2.0    0.8"
       ]
      }
     ],
     "prompt_number": 17
    }
   ],
   "metadata": {}
  }
 ]
}