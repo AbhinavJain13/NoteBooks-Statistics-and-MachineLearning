{
 "metadata": {
  "name": "",
  "signature": "sha256:d919fb7ed0adde257980b8c190a6ade339bc2aa94bb20e43dfd1b82c6199d1a4"
 },
 "nbformat": 3,
 "nbformat_minor": 0,
 "worksheets": [
  {
   "cells": [
    {
     "cell_type": "code",
     "collapsed": false,
     "input": [
      "%matplotlib inline\n",
      "import sys\n",
      "import string\n",
      "import numpy as np\n",
      "import pandas as pd\n",
      "import matplotlib.pyplot as plt\n",
      "import seaborn as sns\n",
      "from __future__ import print_function\n",
      "\n",
      "# turn of data table rendering\n",
      "pd.set_option('display.notebook_repr_html', False)\n",
      "sns.set_palette(['#00A99D', '#F5CA0C', '#B6129F', '#76620C', '#095C57'])\n",
      "sys.version"
     ],
     "language": "python",
     "metadata": {},
     "outputs": [
      {
       "metadata": {},
       "output_type": "pyout",
       "prompt_number": 1,
       "text": [
        "'3.4.1 |Anaconda 2.1.0 (64-bit)| (default, Sep 24 2014, 18:32:42) [MSC v.1600 64 bit (AMD64)]'"
       ]
      }
     ],
     "prompt_number": 1
    },
    {
     "cell_type": "markdown",
     "metadata": {},
     "source": [
      "## Data"
     ]
    },
    {
     "cell_type": "code",
     "collapsed": false,
     "input": [
      "sentence_1 = 'I realise in time we are all the same'\n",
      "sentence_2 = 'Together until the end of time'\n",
      "sentence_3 = 'We all could spend more time together'\n",
      "\n",
      "df = pd.DataFrame()\n",
      "df['s1'] = pd.Series(sentence_1.lower().split())\n",
      "df['s2'] = pd.Series(sentence_2.lower().split())\n",
      "df['s3'] = pd.Series(sentence_3.lower().split())\n",
      "\n",
      "df = df.T\n",
      "df.head()"
     ],
     "language": "python",
     "metadata": {},
     "outputs": [
      {
       "metadata": {},
       "output_type": "pyout",
       "prompt_number": 5,
       "text": [
        "           0        1      2      3     4     5         6    7     8\n",
        "s1         i  realise     in   time    we   are       all  the  same\n",
        "s2  together    until    the    end    of  time       NaN  NaN   NaN\n",
        "s3        we      all  could  spend  more  time  together  NaN   NaN"
       ]
      }
     ],
     "prompt_number": 5
    },
    {
     "cell_type": "code",
     "collapsed": false,
     "input": [],
     "language": "python",
     "metadata": {},
     "outputs": []
    }
   ],
   "metadata": {}
  }
 ]
}