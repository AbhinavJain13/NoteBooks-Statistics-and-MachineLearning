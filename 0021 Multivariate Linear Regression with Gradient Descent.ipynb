{
 "metadata": {
  "name": "",
  "signature": "sha256:89f272fd97492612c4cb03c91e5a6ff91a7af433bfeb58b41b194816c227b5fc"
 },
 "nbformat": 3,
 "nbformat_minor": 0,
 "worksheets": [
  {
   "cells": [
    {
     "cell_type": "markdown",
     "metadata": {},
     "source": [
      "## Setup"
     ]
    },
    {
     "cell_type": "code",
     "collapsed": false,
     "input": [
      "%matplotlib inline\n",
      "import numpy as np\n",
      "import pandas as pd\n",
      "import scipy\n",
      "import matplotlib.pyplot as plt\n",
      "import seaborn as sns\n",
      "from scipy import stats\n",
      "import statsmodels.api as sm\n",
      "import math\n",
      "from __future__ import division\n",
      "\n",
      "# turn of data table rendering\n",
      "pd.set_option('display.notebook_repr_html', False)\n",
      "\n",
      "sns.set_palette(['#00A99D', '#F5CA0C', '#B6129F', '#76620C', '#095C57'])\n",
      "np.version.full_version, scipy.version.full_version, \\\n",
      "pd.version.version, sm.version.full_version"
     ],
     "language": "python",
     "metadata": {},
     "outputs": [
      {
       "metadata": {},
       "output_type": "pyout",
       "prompt_number": 6,
       "text": [
        "('1.9.1', '0.14.0', '0.15.2', '0.6.1')"
       ]
      }
     ],
     "prompt_number": 6
    },
    {
     "cell_type": "markdown",
     "metadata": {},
     "source": [
      "## Machine Learning\n",
      "Quite a few machine learning questions focus on predicting an outcome based on a set of features. Multivariate linear regression with gradient descent is a supervised learning technique. The machine learns the best fitting linear function from a training set, which it uses to predict outcomes based on feature values it has not encountered before.  "
     ]
    },
    {
     "cell_type": "markdown",
     "metadata": {},
     "source": [
      "Our goal using Linear Regression with Gradient Descent, is trying to minimize the cost function to get the equation that results in the best predictions. We need to fit a straight line through the data where the sum of the squared differences between the predicted and the actual values as small as possible."
     ]
    },
    {
     "cell_type": "markdown",
     "metadata": {},
     "source": [
      "## Training Set\n",
      "To teach the model, we use a training set of data points. Each datapoint has a set of features (input variables) $x_1, x_2, x_n$ that lead to an observed outcome $y$ (output variable). Features are for instance the age, height, weight of a baseball player. The outcome could be something like the batting average in the player's career. The datapoints are vectors $1\\ to\\ m$ as shown here:\n",
      "\n",
      "$$\n",
      "\\begin{pmatrix} \\underline{y_{1\\ avg}} \\\\ x_{age} \\\\ x_{height} \\\\ x_{weight} \\end{pmatrix}\n",
      "\\begin{pmatrix} \\underline{y_2} \\\\ x_1 \\\\ x_2 \\\\ x_3 \\end{pmatrix}\n",
      "\\begin{pmatrix} \\underline{y_3} \\\\ x_1 \\\\ x_2 \\\\ x_3 \\end{pmatrix}\n",
      "to\n",
      "\\begin{pmatrix} \\underline{y_m} \\\\ x_1 \\\\ x_2 \\\\ x_3 \\end{pmatrix}\n",
      "$$"
     ]
    },
    {
     "cell_type": "markdown",
     "metadata": {},
     "source": [
      "## Theta Coefficients\n",
      "We define a set of coefficients, called parameters or weights of the model. A coefficient $\\theta$ (theta) relates to a single feature. Each theta value indicates how important the corresponding feature is, in relation to the other features, when predicting the outcome. A relative large absolute $\\theta_i$ means that feauture $x_i$ is a big contributor to the model in predicting the outcome. Eventually, the sum of all features times their respective $\\theta$ results in the predicted outcome $h$. \n",
      "\n",
      "## Cost Function\n",
      "The cost function $J(\\Theta)$ (of all theta's combined) is a meassure of how well our set of theta's does in predicting the expected outcome. The goal is to minimize $J(\\Theta)$ as close as possible to zero.\n",
      "\n",
      "$$J(\\Theta)=\\frac{1}{2m}\\sum_{i=1}^m(h_\\theta(x^{(i)})-y^{(i)})^2, \\\\\n",
      "h(x^i)=\\sum_{j=0}^N\\theta_jx_j^i\n",
      "$$\n",
      "\n",
      "- $h_\\theta(x^{(i)})$ = predicted value of $y^{(i)}$ *(h = hypothesis)*\n",
      "- $i$ = data point index\n",
      "- $m$ = number of data points\n",
      "- $j$ = feature index\n",
      "- $N$ = number of features\n",
      "- $x$ = feature"
     ]
    },
    {
     "cell_type": "markdown",
     "metadata": {},
     "source": [
      "## Calculation Example\n",
      "Let's start of with a simple univariate example and say we have a learning set with only one feature $x$ and an outcome $y$. The constant factor $\\theta_0$ is zero."
     ]
    },
    {
     "cell_type": "code",
     "collapsed": false,
     "input": [
      "# Create three x, y point and fit a line\n",
      "data = pd.DataFrame({'x': [1, 2, 3], \n",
      "                     'y': [1, 2, 3]})\n",
      "sns.regplot(\"x\", \"y\", data=data, \n",
      "           ci=None, scatter_kws={\"s\": 100})\n",
      "plt.show()"
     ],
     "language": "python",
     "metadata": {},
     "outputs": [
      {
       "metadata": {},
       "output_type": "display_data",
       "png": "[encoded data removed]",
       "text": [
        "<matplotlib.figure.Figure at 0x1fd85a58>"
       ]
      }
     ],
     "prompt_number": 105
    },
    {
     "cell_type": "markdown",
     "metadata": {},
     "source": [
      "The data points fit the line exactly. In this case the cost function should result in $0$, because there is nu difference in the predicted $h_\\theta(x^{(i)})$ and the observed values $y^{(i)}$. Calculation as follows:\n",
      "\n",
      "$\n",
      "J(\\Theta)=\\frac{1}{2m}\\begin{bmatrix}(1-1)^2+(2-2)^2+(3-3)^2\\end{bmatrix}\\\\\n",
      "J(\\Theta)=\\frac{1}{2\\cdot3}(0.0)=0.0\\\\\n",
      "$\n",
      "\n",
      "If the datapoint(s) are not exactly on the fitted line, we see an increase in the value of the cost function $J(\\Theta)$. In the example below we lower data point (2, 2) to (2, 1.5) and plot the line."
     ]
    },
    {
     "cell_type": "code",
     "collapsed": false,
     "input": [
      "# Create the unchanged datapoints and fit a line\n",
      "data = pd.DataFrame({'x': [1, 3], \n",
      "                     'y': [1, 3]})\n",
      "sns.regplot(\"x\", \"y\", data=data, \n",
      "           ci=None, scatter_kws={\"s\": 0})\n",
      "\n",
      "# Lower point 2,2 to 2, 1.5\n",
      "data = pd.DataFrame({'x': [1, 2, 3], \n",
      "                     'y': [1, 1.5, 3]})\n",
      "sns.regplot(\"x\", \"y\", data=data, fit_reg=False,\n",
      "           ci=None, scatter_kws={\"s\": 100})\n",
      "plt.show()"
     ],
     "language": "python",
     "metadata": {},
     "outputs": [
      {
       "metadata": {},
       "output_type": "display_data",
       "png": "[encoded data removed]",
       "text": [
        "<matplotlib.figure.Figure at 0x2043c630>"
       ]
      }
     ],
     "prompt_number": 125
    },
    {
     "cell_type": "markdown",
     "metadata": {},
     "source": [
      "The data points are on and below the fitted line. In this case the cost function should result in a value $ < 0$, because there is a difference in the predicted $h_\\theta(x^{(i)})$ and the observed values $y^{(i)}$. Calculation as follows:\n",
      "\n",
      "$\n",
      "J(\\Theta)=\\frac{1}{2m}\\begin{bmatrix}(1-1)^2+(2-1.5)^2+(3-3)^2\\end{bmatrix}\\\\\n",
      "J(\\Theta)=\\frac{1}{2m}\\begin{bmatrix}0+0.25+0\\end{bmatrix}\\\\\n",
      "J(\\Theta)=\\frac{1}{2\\cdot3}(0.25)\\approx0.042\\\\\n",
      "$\n",
      "\n",
      "The sum of the squared differences, if we keep the fitted line through (1, 1) and (3, 3), is 0.25. The cost function approximates 0.042. This may be still pretty low, but is it the best fit? Intuitively we would expect the fitted line to be somewhat lower that this. Let's try this by lowering the $y$ values with something like 0.20. "
     ]
    },
    {
     "cell_type": "code",
     "collapsed": false,
     "input": [
      "# Create the changed datapoints minus theta and fit a line\n",
      "data = pd.DataFrame({'x': [1, 3], \n",
      "                     'y': [1 - .2, 3 - .2]})\n",
      "sns.regplot(\"x\", \"y\", data=data, \n",
      "           ci=None, scatter_kws={\"s\": 0})\n",
      "\n",
      "# Lower point 2,2 to 2, 1.5\n",
      "data = pd.DataFrame({'x': [1, 2, 3], \n",
      "                     'y': [1, 1.5, 3]})\n",
      "sns.regplot(\"x\", \"y\", data=data, fit_reg=False,\n",
      "           ci=None, scatter_kws={\"s\": 100})\n",
      "plt.show()"
     ],
     "language": "python",
     "metadata": {},
     "outputs": [
      {
       "metadata": {},
       "output_type": "display_data",
       "png": "[encoded data removed]",
       "text": [
        "<matplotlib.figure.Figure at 0x1f6b4710>"
       ]
      }
     ],
     "prompt_number": 132
    },
    {
     "cell_type": "markdown",
     "metadata": {},
     "source": [
      "The data points are now clearly above and below the intuitively fitted line. The cost function should result in a value $ < 0$ but smaller than our previous calculated value.\n",
      "\n",
      "$\n",
      "J(\\Theta)=\\frac{1}{2m}[((1 - 0.2)-1)^2+((2-0.2)-1.5)^2+((3-0.2)-3)^2]\\\\\n",
      "J(\\Theta)=\\frac{1}{2m}[0.04+0.09+0.04]\\\\\n",
      "J(\\Theta)=\\frac{1}{2\\cdot3}(0.17)\\approx0.028\\\\\n",
      "$"
     ]
    },
    {
     "cell_type": "code",
     "collapsed": false,
     "input": [
      "data = pd.DataFrame({'x': [1, 2, 3], \n",
      "                     'y': [1, 1.5, 3]})\n",
      "slope, intercept, r_value, p_value, std_err = stats.linregress(data.x, data.y)\n",
      "slope, intercept"
     ],
     "language": "python",
     "metadata": {},
     "outputs": [
      {
       "metadata": {},
       "output_type": "pyout",
       "prompt_number": 118,
       "text": [
        "(1.0, -0.16666666666666674)"
       ]
      }
     ],
     "prompt_number": 118
    },
    {
     "cell_type": "markdown",
     "metadata": {},
     "source": [
      "## Gradient Descent\n",
      "To minimize our cost function we can use an algorithm called Gradient Descent.\n",
      "\n",
      "![caption](http://unsupervised-learning.com/wp-content/uploads/2015/01/gradient-descent.png)"
     ]
    },
    {
     "cell_type": "code",
     "collapsed": false,
     "input": [],
     "language": "python",
     "metadata": {},
     "outputs": []
    }
   ],
   "metadata": {}
  }
 ]
}