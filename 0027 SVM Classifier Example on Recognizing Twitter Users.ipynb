{
 "metadata": {
  "name": "",
  "signature": "sha256:4ef3d4d834c90dd2d62ea1fe8f75a1c2495d32c529968928513982830b3d1e4e"
 },
 "nbformat": 3,
 "nbformat_minor": 0,
 "worksheets": [
  {
   "cells": [
    {
     "cell_type": "code",
     "collapsed": false,
     "input": [
      "%matplotlib inline\n",
      "import sys\n",
      "import string\n",
      "import numpy as np\n",
      "import pandas as pd\n",
      "import matplotlib.pyplot as plt\n",
      "import seaborn as sns\n",
      "\n",
      "from sklearn.svm import SVC\n",
      "from sklearn.metrics import accuracy_score\n",
      "from sklearn.feature_extraction.text import CountVectorizer\n",
      "from sklearn.feature_extraction.text import TfidfTransformer\n",
      "from __future__ import print_function\n",
      "\n",
      "# turn of data table rendering\n",
      "pd.set_option('display.notebook_repr_html', False)\n",
      "sns.set_palette(['#00A99D', '#F5CA0C', '#B6129F', '#76620C', '#095C57'])\n",
      "sys.version"
     ],
     "language": "python",
     "metadata": {},
     "outputs": [
      {
       "metadata": {},
       "output_type": "pyout",
       "prompt_number": 1,
       "text": [
        "'3.4.1 |Anaconda 2.1.0 (64-bit)| (default, Sep 24 2014, 18:32:42) [MSC v.1600 64 bit (AMD64)]'"
       ]
      }
     ],
     "prompt_number": 1
    },
    {
     "cell_type": "markdown",
     "metadata": {},
     "source": [
      "## Data"
     ]
    },
    {
     "cell_type": "code",
     "collapsed": false,
     "input": [
      "# Load 200 tweets from @kdnuggets and @analyticbridge (n=400)\n",
      "df = pd.read_csv('data/tweets.csv')\n",
      "df.screen_name.value_counts()"
     ],
     "language": "python",
     "metadata": {},
     "outputs": [
      {
       "metadata": {},
       "output_type": "pyout",
       "prompt_number": 2,
       "text": [
        "analyticbridge    200\n",
        "kdnuggets         200\n",
        "dtype: int64"
       ]
      }
     ],
     "prompt_number": 2
    },
    {
     "cell_type": "code",
     "collapsed": false,
     "input": [
      "# Show arbitrairy datapoint\n",
      "df.screen_name[331], df.tweet[331]"
     ],
     "language": "python",
     "metadata": {},
     "outputs": [
      {
       "metadata": {},
       "output_type": "pyout",
       "prompt_number": 3,
       "text": [
        "('analyticbridge',\n",
        " 'Three myths about data scientists and big data http://t.co/EtzjR4pdbH')"
       ]
      }
     ],
     "prompt_number": 3
    },
    {
     "cell_type": "code",
     "collapsed": false,
     "input": [
      "# Shuffle the data\n",
      "def shuffle(data, n):\n",
      "    ind = data.index\n",
      "    for i in range(n):\n",
      "       sampler = np.random.permutation(data.shape[0])\n",
      "       new_vals = data.take(sampler).values\n",
      "       data = pd.DataFrame(new_vals, index=ind)\n",
      "    return data\n",
      "\n",
      "df = shuffle(df, 1)\n",
      "df.columns = ['screen_name', 'tweet']\n",
      "df.head()"
     ],
     "language": "python",
     "metadata": {},
     "outputs": [
      {
       "metadata": {},
       "output_type": "pyout",
       "prompt_number": 4,
       "text": [
        "      screen_name                                              tweet\n",
        "0  analyticbridge  Big Data & Analytics Practice Lead: Lilien Sys...\n",
        "1       kdnuggets  @crockpotveggies great post on Tinder - can we...\n",
        "2       kdnuggets  Cartoon: Data Scientist gets 3 wishes for Vale...\n",
        "3       kdnuggets  KDnuggets Annual Poll: Analytics/Data Science/...\n",
        "4       kdnuggets  Big Data Innovators Under 35 http://t.co/yn2ew..."
       ]
      }
     ],
     "prompt_number": 4
    },
    {
     "cell_type": "markdown",
     "metadata": {},
     "source": [
      "## Training and test sets"
     ]
    },
    {
     "cell_type": "code",
     "collapsed": false,
     "input": [
      "# Create a training set (3/4 of the data)\n",
      "train_n = 300\n",
      "train_features = df['tweet'][:train_n]\n",
      "train_labels = df['screen_name'][:train_n]\n",
      "train_features.count()"
     ],
     "language": "python",
     "metadata": {},
     "outputs": [
      {
       "metadata": {},
       "output_type": "pyout",
       "prompt_number": 5,
       "text": [
        "300"
       ]
      }
     ],
     "prompt_number": 5
    },
    {
     "cell_type": "code",
     "collapsed": false,
     "input": [
      "# Create a test set (1/4 of the data)\n",
      "test_features = df['tweet'][train_n:]\n",
      "test_labels = df['screen_name'][train_n:]\n",
      "test_features.count()"
     ],
     "language": "python",
     "metadata": {},
     "outputs": [
      {
       "metadata": {},
       "output_type": "pyout",
       "prompt_number": 6,
       "text": [
        "100"
       ]
      }
     ],
     "prompt_number": 6
    },
    {
     "cell_type": "markdown",
     "metadata": {},
     "source": [
      "## TF-IDF Feature Vectors"
     ]
    },
    {
     "cell_type": "code",
     "collapsed": false,
     "input": [
      "# In order to perform machine learning on text documents, we first \n",
      "# need to turn the text content into numerical features.\n",
      "count_vectorizer = CountVectorizer()\n",
      "\n",
      "train_counts = count_vectorizer.fit_transform(train_features)\n",
      "train_counts.shape"
     ],
     "language": "python",
     "metadata": {},
     "outputs": [
      {
       "metadata": {},
       "output_type": "pyout",
       "prompt_number": 7,
       "text": [
        "(300, 1662)"
       ]
      }
     ],
     "prompt_number": 7
    },
    {
     "cell_type": "code",
     "collapsed": false,
     "input": [
      "# Transform to Term Frequencies - Inverse Document Frequencies\n",
      "tfidf_transformer = TfidfTransformer(use_idf=False)\n",
      "tfidf_transformer.fit(train_counts)\n",
      "\n",
      "train_tfidf = tfidf_transformer.transform(train_counts)\n",
      "train_tfidf.shape"
     ],
     "language": "python",
     "metadata": {},
     "outputs": [
      {
       "metadata": {},
       "output_type": "pyout",
       "prompt_number": 8,
       "text": [
        "(300, 1662)"
       ]
      }
     ],
     "prompt_number": 8
    },
    {
     "cell_type": "code",
     "collapsed": false,
     "input": [
      "# Create a tf-idf for the test data\n",
      "test_counts = count_vectorizer.transform(test_features)\n",
      "test_tfidf = tfidf_transformer.transform(test_counts)\n",
      "test_tfidf.shape"
     ],
     "language": "python",
     "metadata": {},
     "outputs": [
      {
       "metadata": {},
       "output_type": "pyout",
       "prompt_number": 9,
       "text": [
        "(100, 1662)"
       ]
      }
     ],
     "prompt_number": 9
    },
    {
     "cell_type": "markdown",
     "metadata": {},
     "source": [
      "## Training"
     ]
    },
    {
     "cell_type": "code",
     "collapsed": false,
     "input": [
      "# Train the SVC with linear kernel\n",
      "clf = SVC(kernel=\"linear\")\n",
      "clf.fit(train_tfidf, train_labels)"
     ],
     "language": "python",
     "metadata": {},
     "outputs": [
      {
       "metadata": {},
       "output_type": "pyout",
       "prompt_number": 10,
       "text": [
        "SVC(C=1.0, cache_size=200, class_weight=None, coef0=0.0, degree=3, gamma=0.0,\n",
        "  kernel='linear', max_iter=-1, probability=False, random_state=None,\n",
        "  shrinking=True, tol=0.001, verbose=False)"
       ]
      }
     ],
     "prompt_number": 10
    },
    {
     "cell_type": "markdown",
     "metadata": {},
     "source": [
      "## Prediction"
     ]
    },
    {
     "cell_type": "code",
     "collapsed": false,
     "input": [
      "# Predict with the test data\n",
      "pred = clf.predict(test_tfidf)\n",
      "pred[:11]"
     ],
     "language": "python",
     "metadata": {},
     "outputs": [
      {
       "metadata": {},
       "output_type": "pyout",
       "prompt_number": 11,
       "text": [
        "array(['kdnuggets', 'kdnuggets', 'kdnuggets', 'kdnuggets',\n",
        "       'analyticbridge', 'analyticbridge', 'kdnuggets', 'analyticbridge',\n",
        "       'analyticbridge', 'analyticbridge', 'kdnuggets'], dtype=object)"
       ]
      }
     ],
     "prompt_number": 11
    },
    {
     "cell_type": "markdown",
     "metadata": {},
     "source": [
      "## Model Accuracy"
     ]
    },
    {
     "cell_type": "code",
     "collapsed": false,
     "input": [
      "# Plot the accuracy of the model\n",
      "sns.barplot(test_labels == pred)\n",
      "plt.show()"
     ],
     "language": "python",
     "metadata": {},
     "outputs": [
      {
       "metadata": {},
       "output_type": "display_data",
       "png": "[encoded data removed]",
       "text": [
        "<matplotlib.figure.Figure at 0x6d15128>"
       ]
      }
     ],
     "prompt_number": 12
    },
    {
     "cell_type": "code",
     "collapsed": false,
     "input": [
      "# Calculate the accuracy\n",
      "accuracy = accuracy_score(pred, test_labels)\n",
      "accuracy"
     ],
     "language": "python",
     "metadata": {},
     "outputs": [
      {
       "metadata": {},
       "output_type": "pyout",
       "prompt_number": 13,
       "text": [
        "0.72999999999999998"
       ]
      }
     ],
     "prompt_number": 13
    }
   ],
   "metadata": {}
  }
 ]
}