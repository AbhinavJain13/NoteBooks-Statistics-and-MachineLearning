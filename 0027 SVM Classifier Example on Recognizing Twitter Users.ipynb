{
 "metadata": {
  "name": "",
  "signature": "sha256:b096aa329514f85c87fc5459ea496b82c3980806c52b3bd6d9693b1caeb34045"
 },
 "nbformat": 3,
 "nbformat_minor": 0,
 "worksheets": [
  {
   "cells": [
    {
     "cell_type": "code",
     "collapsed": false,
     "input": [
      "%matplotlib inline\n",
      "import sys\n",
      "import string\n",
      "import numpy as np\n",
      "import pandas as pd\n",
      "import matplotlib.pyplot as plt\n",
      "import seaborn as sns\n",
      "\n",
      "from sklearn.svm import SVC\n",
      "from sklearn.metrics import accuracy_score\n",
      "from sklearn.feature_extraction.text import CountVectorizer\n",
      "from sklearn.feature_extraction.text import TfidfTransformer\n",
      "from __future__ import print_function\n",
      "\n",
      "# turn of data table rendering\n",
      "pd.set_option('display.notebook_repr_html', False)\n",
      "sns.set_palette(['#00A99D', '#F5CA0C', '#B6129F', '#76620C', '#095C57'])\n",
      "sys.version"
     ],
     "language": "python",
     "metadata": {},
     "outputs": [
      {
       "metadata": {},
       "output_type": "pyout",
       "prompt_number": 1,
       "text": [
        "'3.4.1 |Anaconda 2.1.0 (64-bit)| (default, Sep 24 2014, 18:32:42) [MSC v.1600 64 bit (AMD64)]'"
       ]
      }
     ],
     "prompt_number": 1
    },
    {
     "cell_type": "markdown",
     "metadata": {},
     "source": [
      "## Data\n",
      "The dataset contains recent tweets of two data anylytics giants; Gregory Piatetsky ([@kdnuggets](https://twitter.com/kdnuggets)) and Big Data Science ([@analyticbridge](https://twitter.com/analyticbridge)). The screen_name acts as the label, while each word in the tweet is a feature. We shuffle the data."
     ]
    },
    {
     "cell_type": "code",
     "collapsed": false,
     "input": [
      "# Load 200 tweets from @kdnuggets and @analyticbridge (n=400)\n",
      "df = pd.read_csv('data/tweets.csv')\n",
      "df.screen_name.value_counts()"
     ],
     "language": "python",
     "metadata": {},
     "outputs": [
      {
       "metadata": {},
       "output_type": "pyout",
       "prompt_number": 2,
       "text": [
        "kdnuggets         200\n",
        "analyticbridge    200\n",
        "dtype: int64"
       ]
      }
     ],
     "prompt_number": 2
    },
    {
     "cell_type": "code",
     "collapsed": false,
     "input": [
      "# Show arbitrary datapoint\n",
      "df.screen_name[331], df.tweet[331]"
     ],
     "language": "python",
     "metadata": {},
     "outputs": [
      {
       "metadata": {},
       "output_type": "pyout",
       "prompt_number": 3,
       "text": [
        "('analyticbridge',\n",
        " 'Three myths about data scientists and big data http://t.co/EtzjR4pdbH')"
       ]
      }
     ],
     "prompt_number": 3
    },
    {
     "cell_type": "code",
     "collapsed": false,
     "input": [
      "# Shuffle the data\n",
      "def shuffle(data, n):\n",
      "    ind = data.index\n",
      "    for i in range(n):\n",
      "       sampler = np.random.permutation(data.shape[0])\n",
      "       new_vals = data.take(sampler).values\n",
      "       data = pd.DataFrame(new_vals, index=ind)\n",
      "    return data\n",
      "\n",
      "df = shuffle(df, 1)\n",
      "df.columns = ['screen_name', 'tweet']\n",
      "df.head()"
     ],
     "language": "python",
     "metadata": {},
     "outputs": [
      {
       "metadata": {},
       "output_type": "pyout",
       "prompt_number": 4,
       "text": [
        "      screen_name                                              tweet\n",
        "0  analyticbridge  #CrowdFlower Event: Make People-Powered Sentim...\n",
        "1       kdnuggets  Manthan, India-based analytics solutions firm,...\n",
        "2       kdnuggets  #Women professors get lower ratings than men, ...\n",
        "3  analyticbridge  Certificate in Quantitative Finance (CQF) http...\n",
        "4       kdnuggets  Top stories for Feb 1-7: Avoiding a Common Mis..."
       ]
      }
     ],
     "prompt_number": 4
    },
    {
     "cell_type": "markdown",
     "metadata": {},
     "source": [
      "## Training and test sets\n",
      "To train our SVM model, we need a large enough training set and a test set to test for accuracy. We split the data 75% for training and 25% for testing."
     ]
    },
    {
     "cell_type": "code",
     "collapsed": false,
     "input": [
      "# Create a training set (3/4 of the data)\n",
      "train_n = 300\n",
      "train_features = df['tweet'][:train_n]\n",
      "train_labels = df['screen_name'][:train_n]\n",
      "train_features.count()"
     ],
     "language": "python",
     "metadata": {},
     "outputs": [
      {
       "metadata": {},
       "output_type": "pyout",
       "prompt_number": 5,
       "text": [
        "300"
       ]
      }
     ],
     "prompt_number": 5
    },
    {
     "cell_type": "code",
     "collapsed": false,
     "input": [
      "# Create a test set (1/4 of the data)\n",
      "test_features = df['tweet'][train_n:]\n",
      "test_labels = df['screen_name'][train_n:]\n",
      "test_features.count()"
     ],
     "language": "python",
     "metadata": {},
     "outputs": [
      {
       "metadata": {},
       "output_type": "pyout",
       "prompt_number": 6,
       "text": [
        "100"
       ]
      }
     ],
     "prompt_number": 6
    },
    {
     "cell_type": "markdown",
     "metadata": {},
     "source": [
      "## TF-IDF Feature Vectors\n",
      "To extract useful features from the tweets we use the TF-IDF algorithm to qualify the importance of words. For more on TF-IDF, see [Using TF-IDF for Text Mining in Python](http://unsupervised-learning.com/tf-idf-text-mining-python). To do this we use the [count_vectorizer](http://scikit-learn.org/stable/modules/generated/sklearn.feature_extraction.text.CountVectorizer.html) and [tfidf_transformer](http://scikit-learn.org/stable/modules/generated/sklearn.feature_extraction.text.TfidfTransformer.html) from the scikit-learn machine learning library."
     ]
    },
    {
     "cell_type": "code",
     "collapsed": false,
     "input": [
      "# In order to perform machine learning on text documents, we first \n",
      "# need to turn the text content into numerical features.\n",
      "count_vectorizer = CountVectorizer()\n",
      "\n",
      "train_counts = count_vectorizer.fit_transform(train_features)\n",
      "train_counts.shape"
     ],
     "language": "python",
     "metadata": {},
     "outputs": [
      {
       "metadata": {},
       "output_type": "pyout",
       "prompt_number": 7,
       "text": [
        "(300, 1701)"
       ]
      }
     ],
     "prompt_number": 7
    },
    {
     "cell_type": "code",
     "collapsed": false,
     "input": [
      "# Transform to Term Frequencies - Inverse Document Frequencies\n",
      "tfidf_transformer = TfidfTransformer(use_idf=False)\n",
      "tfidf_transformer.fit(train_counts)\n",
      "\n",
      "train_tfidf = tfidf_transformer.transform(train_counts)\n",
      "train_tfidf.shape"
     ],
     "language": "python",
     "metadata": {},
     "outputs": [
      {
       "metadata": {},
       "output_type": "pyout",
       "prompt_number": 8,
       "text": [
        "(300, 1701)"
       ]
      }
     ],
     "prompt_number": 8
    },
    {
     "cell_type": "code",
     "collapsed": false,
     "input": [
      "# Create a tf-idf for the test data\n",
      "test_counts = count_vectorizer.transform(test_features)\n",
      "test_tfidf = tfidf_transformer.transform(test_counts)\n",
      "test_tfidf.shape"
     ],
     "language": "python",
     "metadata": {},
     "outputs": [
      {
       "metadata": {},
       "output_type": "pyout",
       "prompt_number": 9,
       "text": [
        "(100, 1701)"
       ]
      }
     ],
     "prompt_number": 9
    },
    {
     "cell_type": "markdown",
     "metadata": {},
     "source": [
      "## Training the SVM Classifier\n",
      "We train the Support Vector Machine with a linear kernel on the TF-IDF scores and both Twitter handles as the training labels."
     ]
    },
    {
     "cell_type": "code",
     "collapsed": false,
     "input": [
      "# Train the SVC with linear kernel\n",
      "clf = SVC(kernel=\"linear\")\n",
      "clf.fit(train_tfidf, train_labels)"
     ],
     "language": "python",
     "metadata": {},
     "outputs": [
      {
       "metadata": {},
       "output_type": "pyout",
       "prompt_number": 10,
       "text": [
        "SVC(C=1.0, cache_size=200, class_weight=None, coef0=0.0, degree=3, gamma=0.0,\n",
        "  kernel='linear', max_iter=-1, probability=False, random_state=None,\n",
        "  shrinking=True, tol=0.001, verbose=False)"
       ]
      }
     ],
     "prompt_number": 10
    },
    {
     "cell_type": "markdown",
     "metadata": {},
     "source": [
      "## Prediction\n",
      "To test our fitted model, we use the test set to predict tweets it has never seen before."
     ]
    },
    {
     "cell_type": "code",
     "collapsed": false,
     "input": [
      "# Predict with the test data\n",
      "pred = clf.predict(test_tfidf)\n",
      "pred[:11]"
     ],
     "language": "python",
     "metadata": {},
     "outputs": [
      {
       "metadata": {},
       "output_type": "pyout",
       "prompt_number": 11,
       "text": [
        "array(['analyticbridge', 'analyticbridge', 'kdnuggets', 'kdnuggets',\n",
        "       'analyticbridge', 'kdnuggets', 'analyticbridge', 'kdnuggets',\n",
        "       'analyticbridge', 'analyticbridge', 'analyticbridge'], dtype=object)"
       ]
      }
     ],
     "prompt_number": 11
    },
    {
     "cell_type": "markdown",
     "metadata": {},
     "source": [
      "## Model Accuracy\n",
      "We determine the current model accuracy by compairing the actual test labels with the predicted labels."
     ]
    },
    {
     "cell_type": "code",
     "collapsed": false,
     "input": [
      "# Plot the accuracy of the model\n",
      "sns.barplot(test_labels == pred)\n",
      "plt.show()"
     ],
     "language": "python",
     "metadata": {},
     "outputs": [
      {
       "metadata": {},
       "output_type": "display_data",
       "png": "[encoded data removed]",
       "text": [
        "<matplotlib.figure.Figure at 0xaa0feb8>"
       ]
      }
     ],
     "prompt_number": 12
    },
    {
     "cell_type": "code",
     "collapsed": false,
     "input": [
      "# Calculate the accuracy\n",
      "accuracy = accuracy_score(pred, test_labels)\n",
      "accuracy"
     ],
     "language": "python",
     "metadata": {},
     "outputs": [
      {
       "metadata": {},
       "output_type": "pyout",
       "prompt_number": 13,
       "text": [
        "0.71999999999999997"
       ]
      }
     ],
     "prompt_number": 13
    },
    {
     "cell_type": "markdown",
     "metadata": {},
     "source": [
      "Ok it works, but the model is not that accurate. On the other hand the model was trained on a relatively small data set. More on this later."
     ]
    }
   ],
   "metadata": {}
  }
 ]
}