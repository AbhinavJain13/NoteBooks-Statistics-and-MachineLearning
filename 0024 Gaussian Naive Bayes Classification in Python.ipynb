{
 "metadata": {
  "name": "",
  "signature": "sha256:5eb6b5f8fb1a990345c839aec0281cd5576b8a4b7828ed82ac1a78c345e4d3cc"
 },
 "nbformat": 3,
 "nbformat_minor": 0,
 "worksheets": [
  {
   "cells": [
    {
     "cell_type": "code",
     "collapsed": false,
     "input": [
      "%matplotlib inline\n",
      "import sys\n",
      "import numpy as np\n",
      "import pandas as pd\n",
      "import matplotlib.pyplot as plt\n",
      "import seaborn as sns\n",
      "import statsmodels.stats as sm\n",
      "from scipy import stats\n",
      "from __future__ import print_function\n",
      "\n",
      "# turn of data table rendering\n",
      "pd.set_option('display.notebook_repr_html', False)\n",
      "sns.set_palette(['#00A99D', '#F5CA0C', '#B6129F', '#76620C', '#095C57'])\n",
      "sys.version"
     ],
     "language": "python",
     "metadata": {},
     "outputs": [
      {
       "metadata": {},
       "output_type": "pyout",
       "prompt_number": 1,
       "text": [
        "'3.4.1 |Anaconda 2.1.0 (64-bit)| (default, Sep 24 2014, 18:32:42) [MSC v.1600 64 bit (AMD64)]'"
       ]
      }
     ],
     "prompt_number": 1
    },
    {
     "cell_type": "markdown",
     "metadata": {},
     "source": [
      "## Supervised Classification\n",
      "In this type of machine learing we tell the system the correct answer to a set a features. The system should be thaught so well that it is later capable of classifying data it's never seen before. Some examples of applications are; recognize someone in a picture from a set of tagged photos, spam filtering and recommender systems (music, movies, customers who buy this product also bought...)"
     ]
    },
    {
     "cell_type": "markdown",
     "metadata": {},
     "source": [
      "## Features and Labels\n",
      "We can describe an object based on its features. A piece of music, for instance, can have continuous features like the song lenght, tempo, dynamics, intensity. Labels are the classes an object can belong to. In this case a class could be whether a song is liked or disliked by someone. It could also be unclear given the data."
     ]
    },
    {
     "cell_type": "markdown",
     "metadata": {},
     "source": [
      "A classifier algorithm defines a decision surface (DS) to separate one class from another. If we know on which side of the boundary a new data point falls, we can 'predict' what class it belongs to. The example below is a linear decision surface. The scatterplot shows two features (a, b) and the purple descision boundary separates two classes (close, far)."
     ]
    },
    {
     "cell_type": "code",
     "collapsed": false,
     "input": [
      "# Create and plot a linear descision surface\n",
      "trainingset = pd.DataFrame({'feature_a': np.random.rand(30) * 4, \n",
      "                         'feature_b': np.random.rand(30) * 3, 'class': 'close'})\n",
      "trainingset = trainingset.append(pd.DataFrame({\n",
      "                         'feature_a': np.random.rand(30) * 5 + 5, \n",
      "                         'feature_b': np.random.rand(30) * 4 + 5, 'class': 'far'}))\n",
      "\n",
      "sns.lmplot(\"feature_a\", \"feature_b\", trainingset, hue='class', markers=[\"x\", \"o\"], \n",
      "           scatter_kws={\"s\": 30}, fit_reg=False);\n",
      "plt.plot([9.5,0.5], [0.5,6], color='#B6129F')\n",
      "plt.show()"
     ],
     "language": "python",
     "metadata": {},
     "outputs": [
      {
       "metadata": {},
       "output_type": "display_data",
       "png": "[encoded data removed]",
       "text": [
        "<matplotlib.figure.Figure at 0xad33e10>"
       ]
      }
     ],
     "prompt_number": 2
    },
    {
     "cell_type": "markdown",
     "metadata": {},
     "source": [
      "## Gaussian Naive Bayes"
     ]
    },
    {
     "cell_type": "code",
     "collapsed": false,
     "input": [
      "# Train a Gaussian Naive Bayes Classifier\n",
      "from sklearn.naive_bayes import GaussianNB\n",
      "clf = GaussianNB()\n",
      "clf.fit(trainingset[['feature_a', 'feature_b']], trainingset['class'])\n",
      "clf.predict([4.8, 4.2])"
     ],
     "language": "python",
     "metadata": {},
     "outputs": [
      {
       "metadata": {},
       "output_type": "pyout",
       "prompt_number": 3,
       "text": [
        "array(['far'], dtype=object)"
       ]
      }
     ],
     "prompt_number": 3
    },
    {
     "cell_type": "code",
     "collapsed": false,
     "input": [
      "# Query the accuracy of the model with a test set\n",
      "features_test = np.array([[2.9,1.1],[4.2,4.3],[6.1,5.9],[2.8,4.3],[8.1,2.7],[10.0,1.9]])\n",
      "labels_test = np.array(['close', 'close', 'far','close', 'far', 'far'])\n",
      "\n",
      "accuracy = clf.score(features_test, labels_test)\n",
      "print(accuracy)"
     ],
     "language": "python",
     "metadata": {},
     "outputs": [
      {
       "output_type": "stream",
       "stream": "stdout",
       "text": [
        "0.833333333333\n"
       ]
      }
     ],
     "prompt_number": 4
    },
    {
     "cell_type": "code",
     "collapsed": false,
     "input": [
      "# Another, more generic, way to calculate accuracy in scikit-learn\n",
      "from sklearn.metrics import accuracy_score\n",
      "print(accuracy_score(clf.predict(features_test), labels_test))"
     ],
     "language": "python",
     "metadata": {},
     "outputs": [
      {
       "output_type": "stream",
       "stream": "stdout",
       "text": [
        "0.833333333333\n"
       ]
      }
     ],
     "prompt_number": 5
    },
    {
     "cell_type": "code",
     "collapsed": false,
     "input": [],
     "language": "python",
     "metadata": {},
     "outputs": []
    }
   ],
   "metadata": {}
  }
 ]
}