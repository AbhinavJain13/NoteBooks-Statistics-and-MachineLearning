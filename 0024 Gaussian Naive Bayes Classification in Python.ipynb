{
 "metadata": {
  "name": "",
  "signature": "sha256:e577876da6b2cfb6ad2b22b57ee2c58b59d5291fbf6cfda300938cd0b351675f"
 },
 "nbformat": 3,
 "nbformat_minor": 0,
 "worksheets": [
  {
   "cells": [
    {
     "cell_type": "code",
     "collapsed": false,
     "input": [
      "%matplotlib inline\n",
      "import sys\n",
      "import numpy as np\n",
      "import pandas as pd\n",
      "import matplotlib.pyplot as plt\n",
      "\n",
      "import seaborn as sns\n",
      "import statsmodels.stats as sm\n",
      "from scipy import stats\n",
      "from __future__ import print_function\n",
      "\n",
      "# turn of data table rendering\n",
      "pd.set_option('display.notebook_repr_html', False)\n",
      "sns.set_palette(['#00A99D', '#F5CA0C', '#B6129F', '#76620C', '#095C57'])\n",
      "sys.version"
     ],
     "language": "python",
     "metadata": {},
     "outputs": [
      {
       "metadata": {},
       "output_type": "pyout",
       "prompt_number": 1,
       "text": [
        "'3.4.1 |Anaconda 2.1.0 (64-bit)| (default, Sep 24 2014, 18:32:42) [MSC v.1600 64 bit (AMD64)]'"
       ]
      }
     ],
     "prompt_number": 1
    },
    {
     "cell_type": "markdown",
     "metadata": {},
     "source": [
      "## Supervised Classification\n",
      "In this type of machine learing we tell the system the correct answer to a set a features. The system should be thaught so well that it is later capable of classifying data it's never seen before. Some examples of applications are; recognize someone in a picture from a set of tagged photos, spam filtering and recommender systems (music, movies, customers who buy this product also bought...)"
     ]
    },
    {
     "cell_type": "markdown",
     "metadata": {},
     "source": [
      "## Features and Labels\n",
      "We can describe an object based on its features. A piece of music, for instance, can have continuous features like the song lenght, tempo, dynamics, intensity. Labels are the classes an object can belong to. In this case a class could be whether a song is liked or disliked by someone. It could also be unclear given the data."
     ]
    },
    {
     "cell_type": "markdown",
     "metadata": {},
     "source": [
      "A classifier algorithm defines a decision surface (DS) to separate one class from another. If we know on which side of the boundary a new data point falls, we can 'predict' what class it belongs to. The example below is a linear decision surface. The scatterplot shows two features (a, b) and the purple descision boundary separates two classes (close, far)."
     ]
    },
    {
     "cell_type": "code",
     "collapsed": false,
     "input": [
      "# Create and plot a linear descision surface\n",
      "trainingset = pd.DataFrame({'feature_a': np.random.rand(30) * 4, \n",
      "                         'feature_b': np.random.rand(30) * 3, 'class': 1})\n",
      "trainingset = trainingset.append(pd.DataFrame({\n",
      "                         'feature_a': np.random.rand(30) * 5 + 5, \n",
      "                         'feature_b': np.random.rand(30) * 4 + 5, 'class': 2}))\n",
      "\n",
      "sns.lmplot(\"feature_a\", \"feature_b\", trainingset, hue='class', markers=[\"x\", \"o\"], \n",
      "           scatter_kws={\"s\": 30}, fit_reg=False);\n",
      "plt.plot([9.5,0.5], [0.5,6], color='#B6129F')\n",
      "plt.show()"
     ],
     "language": "python",
     "metadata": {},
     "outputs": [
      {
       "metadata": {},
       "output_type": "display_data",
       "png": "[encoded data removed]",
       "text": [
        "<matplotlib.figure.Figure at 0xe98bb00>"
       ]
      }
     ],
     "prompt_number": 26
    },
    {
     "cell_type": "markdown",
     "metadata": {},
     "source": [
      "## Gaussian Naive Bayes"
     ]
    },
    {
     "cell_type": "code",
     "collapsed": false,
     "input": [
      "# Train a Gaussian Naive Bayes Classifier\n",
      "from sklearn.naive_bayes import GaussianNB\n",
      "clf = GaussianNB()\n",
      "clf.fit(trainingset[['feature_a', 'feature_b']], trainingset['class'])\n",
      "clf.predict([4.8, 4.2])"
     ],
     "language": "python",
     "metadata": {},
     "outputs": [
      {
       "metadata": {},
       "output_type": "pyout",
       "prompt_number": 27,
       "text": [
        "array([2], dtype=int64)"
       ]
      }
     ],
     "prompt_number": 27
    },
    {
     "cell_type": "code",
     "collapsed": false,
     "input": [
      "# Query the accuracy of the model with a test set\n",
      "features_test = np.array([[2.9,1.1],[4.2,4.3],[6.1,5.9],[2.8,4.3],[8.1,2.7],[10.0,1.9]])\n",
      "labels_test = np.array([1, 1, 2, 1, 2, 2])\n",
      "\n",
      "accuracy = clf.score(features_test, labels_test)\n",
      "print(accuracy)"
     ],
     "language": "python",
     "metadata": {},
     "outputs": [
      {
       "output_type": "stream",
       "stream": "stdout",
       "text": [
        "0.833333333333\n"
       ]
      }
     ],
     "prompt_number": 28
    },
    {
     "cell_type": "code",
     "collapsed": false,
     "input": [
      "# Another, more generic, way to calculate accuracy in scikit-learn\n",
      "from sklearn.metrics import accuracy_score\n",
      "print(accuracy_score(clf.predict(features_test), labels_test))"
     ],
     "language": "python",
     "metadata": {},
     "outputs": [
      {
       "output_type": "stream",
       "stream": "stdout",
       "text": [
        "0.833333333333\n"
       ]
      }
     ],
     "prompt_number": 29
    },
    {
     "cell_type": "code",
     "collapsed": false,
     "input": [
      "# Five out of sixe correctly predicted\n",
      "5/6"
     ],
     "language": "python",
     "metadata": {},
     "outputs": [
      {
       "metadata": {},
       "output_type": "pyout",
       "prompt_number": 30,
       "text": [
        "0.8333333333333334"
       ]
      }
     ],
     "prompt_number": 30
    },
    {
     "cell_type": "code",
     "collapsed": false,
     "input": [
      "def prettyPicture(clf, X_test, y_test):\n",
      "    x_min = 0.0; x_max = 11.0\n",
      "    y_min = 0.0; y_max = 11.0\n",
      "\n",
      "    # Plot the decision boundary. For that, we will assign a color to each\n",
      "    # point in the mesh [x_min, m_max]x[y_min, y_max].\n",
      "    h = .05  # step size in the mesh\n",
      "    xx, yy = np.meshgrid(np.arange(x_min, x_max, h), np.arange(y_min, y_max, h))\n",
      "    Z = clf.predict(np.c_[xx.ravel(), yy.ravel()])\n",
      "    \n",
      "    z_min, z_max = -np.abs(Z).max(), np.abs(Z).max()\n",
      "\n",
      "    # Put the result into a color plot\n",
      "    Z = Z.reshape(xx.shape)\n",
      "    plt.xlim(xx.min(), xx.max())\n",
      "    plt.ylim(yy.min(), yy.max())\n",
      "\n",
      "    plt.pcolormesh(xx, yy, Z, cmap='RdBu', vmin=z_min, vmax=z_max)\n",
      "\n",
      "    # Plot also the test points\n",
      "    grade_sig = [X_test[ii][0] for ii in range(0, len(X_test)) if y_test[ii]==1]\n",
      "    bumpy_sig = [X_test[ii][1] for ii in range(0, len(X_test)) if y_test[ii]==1]\n",
      "    grade_bkg = [X_test[ii][0] for ii in range(0, len(X_test)) if y_test[ii]==2]\n",
      "    bumpy_bkg = [X_test[ii][1] for ii in range(0, len(X_test)) if y_test[ii]==2]\n",
      "\n",
      "    plt.scatter(grade_sig, bumpy_sig, color = '#F5CA0C', label=\"1\", s=50)\n",
      "    plt.scatter(grade_bkg, bumpy_bkg, color = '#00A99D', label=\"2\", s=50)\n",
      "    plt.xlabel(\"x1\")\n",
      "    plt.ylabel(\"x2\")\n",
      "    plt.show()"
     ],
     "language": "python",
     "metadata": {},
     "outputs": [],
     "prompt_number": 37
    },
    {
     "cell_type": "code",
     "collapsed": false,
     "input": [
      "# Train a Gaussian Naive Bayes Classifier\n",
      "from sklearn.naive_bayes import GaussianNB\n",
      "clf = GaussianNB()\n",
      "clf.fit(trainingset[['feature_a', 'feature_b']], trainingset['class'])\n",
      "clf.predict([4.8, 4.2])"
     ],
     "language": "python",
     "metadata": {},
     "outputs": [
      {
       "metadata": {},
       "output_type": "pyout",
       "prompt_number": 38,
       "text": [
        "array([2], dtype=int64)"
       ]
      }
     ],
     "prompt_number": 38
    },
    {
     "cell_type": "code",
     "collapsed": false,
     "input": [
      "prettyPicture(clf, trainingset[['feature_a', 'feature_b']].values, trainingset['class'].values)\n",
      "prettyPicture(clf, features_test, labels_test)\n"
     ],
     "language": "python",
     "metadata": {},
     "outputs": [
      {
       "metadata": {},
       "output_type": "display_data",
       "png": "[encoded data removed]",
       "text": [
        "<matplotlib.figure.Figure at 0xe9cdba8>"
       ]
      },
      {
       "metadata": {},
       "output_type": "display_data",
       "png": "[encoded data removed]",
       "text": [
        "<matplotlib.figure.Figure at 0xe9c64a8>"
       ]
      }
     ],
     "prompt_number": 39
    }
   ],
   "metadata": {}
  }
 ]
}