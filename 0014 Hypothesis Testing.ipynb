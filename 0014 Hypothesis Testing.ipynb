{
 "metadata": {
  "name": "",
  "signature": "sha256:98cde5f0af63fe24471f2603554900dd6954074e129b332060010661060f9bb1"
 },
 "nbformat": 3,
 "nbformat_minor": 0,
 "worksheets": [
  {
   "cells": [
    {
     "cell_type": "code",
     "collapsed": false,
     "input": [
      "%matplotlib inline\n",
      "import numpy as np\n",
      "import pandas as pd\n",
      "import scipy\n",
      "import matplotlib.pyplot as plt\n",
      "import seaborn as sns\n",
      "from scipy import stats\n",
      "import math\n",
      "from __future__ import division\n",
      "\n",
      "# turn of data table rendering\n",
      "pd.set_option('display.notebook_repr_html', False)\n",
      "\n",
      "sns.set_palette(['#00A99D', '#F5CA0C', '#B6129F', '#76620C', '#095C57'])\n",
      "np.version.full_version"
     ],
     "language": "python",
     "metadata": {},
     "outputs": [
      {
       "metadata": {},
       "output_type": "pyout",
       "prompt_number": 1,
       "text": [
        "'1.9.1'"
       ]
      }
     ],
     "prompt_number": 1
    },
    {
     "cell_type": "markdown",
     "metadata": {},
     "source": [
      "## Data"
     ]
    },
    {
     "cell_type": "code",
     "collapsed": false,
     "input": [
      "# Load the data from a csv file. It contains reporting from the \n",
      "# Federal Aviation Administration Wildlife Strike Database\n",
      "# in 2012 and 2013 in the US state of California\n",
      "data = pd.read_csv('data/wildlife.csv')\n",
      "data = data[['INCIDENT_DATE', 'SPECIES', 'SIZE']]\n",
      "data.INCIDENT_DATE = pd.to_datetime(data.INCIDENT_DATE)\n",
      "data = data.set_index('INCIDENT_DATE')\n",
      "data.SPECIES.describe()"
     ],
     "language": "python",
     "metadata": {},
     "outputs": [
      {
       "metadata": {},
       "output_type": "pyout",
       "prompt_number": 322,
       "text": [
        "count                     1817\n",
        "unique                     149\n",
        "top       Unknown bird - small\n",
        "freq                       281\n",
        "Name: SPECIES, dtype: object"
       ]
      }
     ],
     "prompt_number": 322
    },
    {
     "cell_type": "code",
     "collapsed": false,
     "input": [
      "data['DAY_OF_WEEK'] = data.index.dayofweek\n",
      "data['MONTH'] = data.index.month\n",
      "data.head()"
     ],
     "language": "python",
     "metadata": {},
     "outputs": [
      {
       "metadata": {},
       "output_type": "pyout",
       "prompt_number": 323,
       "text": [
        "                                SPECIES    SIZE  DAY_OF_WEEK  MONTH\n",
        "INCIDENT_DATE                                                      \n",
        "2013-12-31                 Barn swallow   Small            1     12\n",
        "2013-12-31             Northern pintail  Medium            1     12\n",
        "2013-12-31     Double-crested cormorant   Large            1     12\n",
        "2013-12-30             Virginia opossum   Large            0     12\n",
        "2013-12-30                        Hawks  Medium            0     12"
       ]
      }
     ],
     "prompt_number": 323
    },
    {
     "cell_type": "code",
     "collapsed": false,
     "input": [
      "p=sns.barplot(data.MONTH)"
     ],
     "language": "python",
     "metadata": {},
     "outputs": [
      {
       "metadata": {},
       "output_type": "display_data",
       "png": "[encoded data removed]",
       "text": [
        "<matplotlib.figure.Figure at 0x34453780>"
       ]
      }
     ],
     "prompt_number": 331
    },
    {
     "cell_type": "code",
     "collapsed": false,
     "input": [],
     "language": "python",
     "metadata": {},
     "outputs": []
    }
   ],
   "metadata": {}
  }
 ]
}