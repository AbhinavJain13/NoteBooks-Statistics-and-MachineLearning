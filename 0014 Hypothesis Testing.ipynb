{
 "metadata": {
  "name": "",
  "signature": "sha256:1fd32a31b821997595e6f2f608247749ad997e8d6148b6e19ca21b980dd95e53"
 },
 "nbformat": 3,
 "nbformat_minor": 0,
 "worksheets": [
  {
   "cells": [
    {
     "cell_type": "code",
     "collapsed": false,
     "input": [
      "%matplotlib inline\n",
      "import numpy as np\n",
      "import pandas as pd\n",
      "import scipy\n",
      "import matplotlib.pyplot as plt\n",
      "import seaborn as sns\n",
      "from scipy import stats\n",
      "import math\n",
      "from __future__ import division\n",
      "\n",
      "# turn of data table rendering\n",
      "pd.set_option('display.notebook_repr_html', False)\n",
      "\n",
      "sns.set_palette(['#00A99D', '#F5CA0C', '#B6129F', '#76620C', '#095C57'])\n",
      "np.version.full_version"
     ],
     "language": "python",
     "metadata": {},
     "outputs": [
      {
       "metadata": {},
       "output_type": "pyout",
       "prompt_number": 1,
       "text": [
        "'1.9.1'"
       ]
      }
     ],
     "prompt_number": 1
    },
    {
     "cell_type": "markdown",
     "metadata": {},
     "source": [
      "## Data\n",
      "The data used in this example contains reporting from the Federal Aviation Administration Wildlife Strike Database in 2012 and 2013 in the US state of California. We only use incident frequencies per day."
     ]
    },
    {
     "cell_type": "code",
     "collapsed": false,
     "input": [
      "# Load the data from a csv file. \n",
      "data = pd.read_csv('data/wildlife.csv')\n",
      "\n",
      "# We only need the incident dates this time\n",
      "data = data[['INCIDENT_DATE']]\n",
      "data.INCIDENT_DATE = pd.to_datetime(data.INCIDENT_DATE)\n",
      "data = data.groupby('INCIDENT_DATE')['INCIDENT_DATE'].size()\n",
      "data.head()"
     ],
     "language": "python",
     "metadata": {},
     "outputs": [
      {
       "metadata": {},
       "output_type": "pyout",
       "prompt_number": 38,
       "text": [
        "INCIDENT_DATE\n",
        "2012-01-02       1\n",
        "2012-01-04       2\n",
        "2012-01-05       5\n",
        "2012-01-06       3\n",
        "2012-01-07       2\n",
        "dtype: int64"
       ]
      }
     ],
     "prompt_number": 38
    },
    {
     "cell_type": "code",
     "collapsed": false,
     "input": [
      "days_2012_2013 = pd.date_range('1/1/2012', '12/31/2013')\n",
      "data = pd.DataFrame(data, index=days_2012_2013, columns=['incidents'])\n",
      "data.head()"
     ],
     "language": "python",
     "metadata": {},
     "outputs": [
      {
       "metadata": {},
       "output_type": "pyout",
       "prompt_number": 39,
       "text": [
        "            incidents\n",
        "2012-01-01        NaN\n",
        "2012-01-02          1\n",
        "2012-01-03        NaN\n",
        "2012-01-04          2\n",
        "2012-01-05          5"
       ]
      }
     ],
     "prompt_number": 39
    },
    {
     "cell_type": "code",
     "collapsed": false,
     "input": [
      "data = data.fillna(0)\n",
      "data.head()"
     ],
     "language": "python",
     "metadata": {},
     "outputs": [
      {
       "metadata": {},
       "output_type": "pyout",
       "prompt_number": 40,
       "text": [
        "            incidents\n",
        "2012-01-01          0\n",
        "2012-01-02          1\n",
        "2012-01-03          0\n",
        "2012-01-04          2\n",
        "2012-01-05          5"
       ]
      }
     ],
     "prompt_number": 40
    },
    {
     "cell_type": "code",
     "collapsed": false,
     "input": [
      "f, (ax1, ax2) = plt.subplots(2, 1, sharex=True, sharey=True)\n",
      "sns.barplot(data['2012'].incidents, ax=ax1)\n",
      "sns.barplot(data['2013'].incidents, ax=ax2)\n",
      "ax1.set_title('Wildlife Strike Incidents 2012')\n",
      "ax2.set_title('Wildlife Strike Incidents 2013')\n",
      "ax1.set_xlabel('')\n",
      "p=ax2.set_xlabel('')"
     ],
     "language": "python",
     "metadata": {},
     "outputs": [
      {
       "metadata": {},
       "output_type": "display_data",
       "png": "[encoded data removed]",
       "text": [
        "<matplotlib.figure.Figure at 0x24c85390>"
       ]
      }
     ],
     "prompt_number": 143
    },
    {
     "cell_type": "code",
     "collapsed": false,
     "input": [
      "n = data.incidents.count()\n",
      "mu = data.incidents.mean()\n",
      "SE = data.incidents.std() / math.sqrt(n)\n",
      "n, mu, SE"
     ],
     "language": "python",
     "metadata": {},
     "outputs": [
      {
       "metadata": {},
       "output_type": "pyout",
       "prompt_number": 144,
       "text": [
        "(731, 2.4938440492476062, 0.069838322289964824)"
       ]
      }
     ],
     "prompt_number": 144
    },
    {
     "cell_type": "code",
     "collapsed": false,
     "input": [],
     "language": "python",
     "metadata": {},
     "outputs": []
    }
   ],
   "metadata": {}
  }
 ]
}